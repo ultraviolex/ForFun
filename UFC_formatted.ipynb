{
 "metadata": {
  "language_info": {
   "codemirror_mode": {
    "name": "ipython",
    "version": 3
   },
   "file_extension": ".py",
   "mimetype": "text/x-python",
   "name": "python",
   "nbconvert_exporter": "python",
   "pygments_lexer": "ipython3",
   "version": "3.8.5"
  },
  "orig_nbformat": 2,
  "kernelspec": {
   "name": "python385jvsc74a57bd0aee8b7b246df8f9039afb4144a1f6fd8d2ca17a180786b69acc140d282b71a49",
   "display_name": "Python 3.8.5 64-bit"
  },
  "metadata": {
   "interpreter": {
    "hash": "aee8b7b246df8f9039afb4144a1f6fd8d2ca17a180786b69acc140d282b71a49"
   }
  }
 },
 "nbformat": 4,
 "nbformat_minor": 2,
 "cells": [
  {
   "cell_type": "code",
   "execution_count": 223,
   "metadata": {},
   "outputs": [],
   "source": [
    "# imports\n",
    "import pandas as pd \n",
    "import matplotlib.pyplot as plt\n",
    "import numpy as np\n",
    "import datetime\n",
    "import statsmodels.api as sm"
   ]
  },
  {
   "cell_type": "code",
   "execution_count": 239,
   "metadata": {},
   "outputs": [
    {
     "output_type": "execute_result",
     "data": {
      "text/plain": [
       "                   R_fighter            B_fighter        Referee        date  \\\n",
       "0               Adrian Yanez        Gustavo Lopez  Chris Tognoni  2021-03-20   \n",
       "1               Trevin Giles        Roman Dolidze      Herb Dean  2021-03-20   \n",
       "2                Tai Tuivasa      Harry Hunsucker      Herb Dean  2021-03-20   \n",
       "3              Cheyanne Buys    Montserrat Conejo     Mark Smith  2021-03-20   \n",
       "4              Marion Reneau        Macy Chiasson     Mark Smith  2021-03-20   \n",
       "...                      ...                  ...            ...         ...   \n",
       "2014          Yair Rodriguez              BJ Penn  John McCarthy  2017-01-15   \n",
       "2015        Bojan Mihajlovic  Joachim Christensen      Nic Jones  2017-01-15   \n",
       "2016             Walt Harris        Chase Sherman      Al Guinee  2017-01-15   \n",
       "2017       Dmitrii Smoliakov          Cyril Asker      Al Guinee  2017-01-15   \n",
       "2018  Jocelyn Jones-Lybarger        Nina Ansaroff      Nic Jones  2017-01-15   \n",
       "\n",
       "                    location Winner  title_bout       weight_class  B_avg_KD  \\\n",
       "0     Las Vegas, Nevada, USA    Red       False       Bantamweight  0.000000   \n",
       "1     Las Vegas, Nevada, USA    Red       False       Middleweight  0.500000   \n",
       "2     Las Vegas, Nevada, USA    Red       False        Heavyweight       NaN   \n",
       "3     Las Vegas, Nevada, USA   Blue       False   WomenStrawweight       NaN   \n",
       "4     Las Vegas, Nevada, USA   Blue       False  WomenBantamweight  0.125000   \n",
       "...                      ...    ...         ...                ...       ...   \n",
       "2014   Phoenix, Arizona, USA    Red       False      Featherweight  0.032227   \n",
       "2015   Phoenix, Arizona, USA   Blue       False   LightHeavyweight  1.000000   \n",
       "2016   Phoenix, Arizona, USA    Red       False        Heavyweight  0.000000   \n",
       "2017   Phoenix, Arizona, USA   Blue       False        Heavyweight  0.000000   \n",
       "2018   Phoenix, Arizona, USA   Blue       False   WomenStrawweight  0.000000   \n",
       "\n",
       "      B_avg_opp_KD  ...  likes_R_fighter  dislikes_R_fighter  \\\n",
       "0              0.0  ...           2281.0               195.0   \n",
       "1              0.0  ...           4367.0               421.0   \n",
       "2              NaN  ...          31263.0              2120.0   \n",
       "3              NaN  ...          27736.0              3034.0   \n",
       "4              0.0  ...           2568.0               213.0   \n",
       "...            ...  ...              ...                 ...   \n",
       "2014           0.0  ...         112252.0              7962.0   \n",
       "2015           0.0  ...           3731.0               633.0   \n",
       "2016           0.0  ...          55627.0              1878.0   \n",
       "2017           1.0  ...          20990.0              3702.0   \n",
       "2018           0.0  ...           3008.0               172.0   \n",
       "\n",
       "      commentCounts_R_fighter  favoriteCounts_R_fighter       name_B_fighter  \\\n",
       "0                       463.0                       0.0        Gustavo Lopez   \n",
       "1                       993.0                       0.0        Roman Dolidze   \n",
       "2                      6669.0                       0.0                  NaN   \n",
       "3                      4097.0                       0.0    Montserrat Conejo   \n",
       "4                       654.0                       0.0        Macy Chiasson   \n",
       "...                       ...                       ...                  ...   \n",
       "2014                  23001.0                       0.0              BJ Penn   \n",
       "2015                    932.0                       0.0  Joachim Christensen   \n",
       "2016                   9698.0                       0.0        Chase Sherman   \n",
       "2017                   5609.0                       0.0          Cyril Asker   \n",
       "2018                    360.0                       0.0        Nina Ansaroff   \n",
       "\n",
       "      views_B_fighter  likes_B_fighter  dislikes_B_fighter  \\\n",
       "0            470547.0          26606.0               556.0   \n",
       "1           1323650.0          12765.0               476.0   \n",
       "2                 NaN              NaN                 NaN   \n",
       "3            801950.0           6992.0               718.0   \n",
       "4            234280.0           3145.0               283.0   \n",
       "...               ...              ...                 ...   \n",
       "2014       18916424.0         104080.0              7643.0   \n",
       "2015        1516189.0          13145.0               620.0   \n",
       "2016        1112229.0          10134.0               935.0   \n",
       "2017        1003739.0          13661.0               756.0   \n",
       "2018        1794739.0          16793.0              2312.0   \n",
       "\n",
       "      commentCounts_B_fighter  favoriteCounts_B_fighter  \n",
       "0                      3214.0                       0.0  \n",
       "1                      1266.0                       0.0  \n",
       "2                         NaN                       NaN  \n",
       "3                      1912.0                       0.0  \n",
       "4                       864.0                       0.0  \n",
       "...                       ...                       ...  \n",
       "2014                  23494.0                       0.0  \n",
       "2015                   2463.0                       0.0  \n",
       "2016                   1232.0                       0.0  \n",
       "2017                   1983.0                       0.0  \n",
       "2018                   5453.0                       0.0  \n",
       "\n",
       "[2019 rows x 159 columns]"
      ],
      "text/html": "<div>\n<style scoped>\n    .dataframe tbody tr th:only-of-type {\n        vertical-align: middle;\n    }\n\n    .dataframe tbody tr th {\n        vertical-align: top;\n    }\n\n    .dataframe thead th {\n        text-align: right;\n    }\n</style>\n<table border=\"1\" class=\"dataframe\">\n  <thead>\n    <tr style=\"text-align: right;\">\n      <th></th>\n      <th>R_fighter</th>\n      <th>B_fighter</th>\n      <th>Referee</th>\n      <th>date</th>\n      <th>location</th>\n      <th>Winner</th>\n      <th>title_bout</th>\n      <th>weight_class</th>\n      <th>B_avg_KD</th>\n      <th>B_avg_opp_KD</th>\n      <th>...</th>\n      <th>likes_R_fighter</th>\n      <th>dislikes_R_fighter</th>\n      <th>commentCounts_R_fighter</th>\n      <th>favoriteCounts_R_fighter</th>\n      <th>name_B_fighter</th>\n      <th>views_B_fighter</th>\n      <th>likes_B_fighter</th>\n      <th>dislikes_B_fighter</th>\n      <th>commentCounts_B_fighter</th>\n      <th>favoriteCounts_B_fighter</th>\n    </tr>\n  </thead>\n  <tbody>\n    <tr>\n      <th>0</th>\n      <td>Adrian Yanez</td>\n      <td>Gustavo Lopez</td>\n      <td>Chris Tognoni</td>\n      <td>2021-03-20</td>\n      <td>Las Vegas, Nevada, USA</td>\n      <td>Red</td>\n      <td>False</td>\n      <td>Bantamweight</td>\n      <td>0.000000</td>\n      <td>0.0</td>\n      <td>...</td>\n      <td>2281.0</td>\n      <td>195.0</td>\n      <td>463.0</td>\n      <td>0.0</td>\n      <td>Gustavo Lopez</td>\n      <td>470547.0</td>\n      <td>26606.0</td>\n      <td>556.0</td>\n      <td>3214.0</td>\n      <td>0.0</td>\n    </tr>\n    <tr>\n      <th>1</th>\n      <td>Trevin Giles</td>\n      <td>Roman Dolidze</td>\n      <td>Herb Dean</td>\n      <td>2021-03-20</td>\n      <td>Las Vegas, Nevada, USA</td>\n      <td>Red</td>\n      <td>False</td>\n      <td>Middleweight</td>\n      <td>0.500000</td>\n      <td>0.0</td>\n      <td>...</td>\n      <td>4367.0</td>\n      <td>421.0</td>\n      <td>993.0</td>\n      <td>0.0</td>\n      <td>Roman Dolidze</td>\n      <td>1323650.0</td>\n      <td>12765.0</td>\n      <td>476.0</td>\n      <td>1266.0</td>\n      <td>0.0</td>\n    </tr>\n    <tr>\n      <th>2</th>\n      <td>Tai Tuivasa</td>\n      <td>Harry Hunsucker</td>\n      <td>Herb Dean</td>\n      <td>2021-03-20</td>\n      <td>Las Vegas, Nevada, USA</td>\n      <td>Red</td>\n      <td>False</td>\n      <td>Heavyweight</td>\n      <td>NaN</td>\n      <td>NaN</td>\n      <td>...</td>\n      <td>31263.0</td>\n      <td>2120.0</td>\n      <td>6669.0</td>\n      <td>0.0</td>\n      <td>NaN</td>\n      <td>NaN</td>\n      <td>NaN</td>\n      <td>NaN</td>\n      <td>NaN</td>\n      <td>NaN</td>\n    </tr>\n    <tr>\n      <th>3</th>\n      <td>Cheyanne Buys</td>\n      <td>Montserrat Conejo</td>\n      <td>Mark Smith</td>\n      <td>2021-03-20</td>\n      <td>Las Vegas, Nevada, USA</td>\n      <td>Blue</td>\n      <td>False</td>\n      <td>WomenStrawweight</td>\n      <td>NaN</td>\n      <td>NaN</td>\n      <td>...</td>\n      <td>27736.0</td>\n      <td>3034.0</td>\n      <td>4097.0</td>\n      <td>0.0</td>\n      <td>Montserrat Conejo</td>\n      <td>801950.0</td>\n      <td>6992.0</td>\n      <td>718.0</td>\n      <td>1912.0</td>\n      <td>0.0</td>\n    </tr>\n    <tr>\n      <th>4</th>\n      <td>Marion Reneau</td>\n      <td>Macy Chiasson</td>\n      <td>Mark Smith</td>\n      <td>2021-03-20</td>\n      <td>Las Vegas, Nevada, USA</td>\n      <td>Blue</td>\n      <td>False</td>\n      <td>WomenBantamweight</td>\n      <td>0.125000</td>\n      <td>0.0</td>\n      <td>...</td>\n      <td>2568.0</td>\n      <td>213.0</td>\n      <td>654.0</td>\n      <td>0.0</td>\n      <td>Macy Chiasson</td>\n      <td>234280.0</td>\n      <td>3145.0</td>\n      <td>283.0</td>\n      <td>864.0</td>\n      <td>0.0</td>\n    </tr>\n    <tr>\n      <th>...</th>\n      <td>...</td>\n      <td>...</td>\n      <td>...</td>\n      <td>...</td>\n      <td>...</td>\n      <td>...</td>\n      <td>...</td>\n      <td>...</td>\n      <td>...</td>\n      <td>...</td>\n      <td>...</td>\n      <td>...</td>\n      <td>...</td>\n      <td>...</td>\n      <td>...</td>\n      <td>...</td>\n      <td>...</td>\n      <td>...</td>\n      <td>...</td>\n      <td>...</td>\n      <td>...</td>\n    </tr>\n    <tr>\n      <th>2014</th>\n      <td>Yair Rodriguez</td>\n      <td>BJ Penn</td>\n      <td>John McCarthy</td>\n      <td>2017-01-15</td>\n      <td>Phoenix, Arizona, USA</td>\n      <td>Red</td>\n      <td>False</td>\n      <td>Featherweight</td>\n      <td>0.032227</td>\n      <td>0.0</td>\n      <td>...</td>\n      <td>112252.0</td>\n      <td>7962.0</td>\n      <td>23001.0</td>\n      <td>0.0</td>\n      <td>BJ Penn</td>\n      <td>18916424.0</td>\n      <td>104080.0</td>\n      <td>7643.0</td>\n      <td>23494.0</td>\n      <td>0.0</td>\n    </tr>\n    <tr>\n      <th>2015</th>\n      <td>Bojan Mihajlovic</td>\n      <td>Joachim Christensen</td>\n      <td>Nic Jones</td>\n      <td>2017-01-15</td>\n      <td>Phoenix, Arizona, USA</td>\n      <td>Blue</td>\n      <td>False</td>\n      <td>LightHeavyweight</td>\n      <td>1.000000</td>\n      <td>0.0</td>\n      <td>...</td>\n      <td>3731.0</td>\n      <td>633.0</td>\n      <td>932.0</td>\n      <td>0.0</td>\n      <td>Joachim Christensen</td>\n      <td>1516189.0</td>\n      <td>13145.0</td>\n      <td>620.0</td>\n      <td>2463.0</td>\n      <td>0.0</td>\n    </tr>\n    <tr>\n      <th>2016</th>\n      <td>Walt Harris</td>\n      <td>Chase Sherman</td>\n      <td>Al Guinee</td>\n      <td>2017-01-15</td>\n      <td>Phoenix, Arizona, USA</td>\n      <td>Red</td>\n      <td>False</td>\n      <td>Heavyweight</td>\n      <td>0.000000</td>\n      <td>0.0</td>\n      <td>...</td>\n      <td>55627.0</td>\n      <td>1878.0</td>\n      <td>9698.0</td>\n      <td>0.0</td>\n      <td>Chase Sherman</td>\n      <td>1112229.0</td>\n      <td>10134.0</td>\n      <td>935.0</td>\n      <td>1232.0</td>\n      <td>0.0</td>\n    </tr>\n    <tr>\n      <th>2017</th>\n      <td>Dmitrii Smoliakov</td>\n      <td>Cyril Asker</td>\n      <td>Al Guinee</td>\n      <td>2017-01-15</td>\n      <td>Phoenix, Arizona, USA</td>\n      <td>Blue</td>\n      <td>False</td>\n      <td>Heavyweight</td>\n      <td>0.000000</td>\n      <td>1.0</td>\n      <td>...</td>\n      <td>20990.0</td>\n      <td>3702.0</td>\n      <td>5609.0</td>\n      <td>0.0</td>\n      <td>Cyril Asker</td>\n      <td>1003739.0</td>\n      <td>13661.0</td>\n      <td>756.0</td>\n      <td>1983.0</td>\n      <td>0.0</td>\n    </tr>\n    <tr>\n      <th>2018</th>\n      <td>Jocelyn Jones-Lybarger</td>\n      <td>Nina Ansaroff</td>\n      <td>Nic Jones</td>\n      <td>2017-01-15</td>\n      <td>Phoenix, Arizona, USA</td>\n      <td>Blue</td>\n      <td>False</td>\n      <td>WomenStrawweight</td>\n      <td>0.000000</td>\n      <td>0.0</td>\n      <td>...</td>\n      <td>3008.0</td>\n      <td>172.0</td>\n      <td>360.0</td>\n      <td>0.0</td>\n      <td>Nina Ansaroff</td>\n      <td>1794739.0</td>\n      <td>16793.0</td>\n      <td>2312.0</td>\n      <td>5453.0</td>\n      <td>0.0</td>\n    </tr>\n  </tbody>\n</table>\n<p>2019 rows × 159 columns</p>\n</div>"
     },
     "metadata": {},
     "execution_count": 239
    }
   ],
   "source": [
    "# import data \n",
    "data = pd.read_csv('youtubefighterdata_20172021.csv')\n",
    "data"
   ]
  },
  {
   "cell_type": "code",
   "execution_count": 240,
   "metadata": {},
   "outputs": [],
   "source": [
    "# convert date column to datetime object\n",
    "data['date'] = pd.to_datetime(data['date'])"
   ]
  },
  {
   "cell_type": "code",
   "execution_count": 241,
   "metadata": {},
   "outputs": [],
   "source": [
    "# get list of time since last match for R_fighter and B_fighter (R_last_match, B_last_match)\n",
    "R_last_match = []\n",
    "B_last_match = []\n",
    "# for each fight, find the date of R_fighter's last fight and B_fighter's last fight\n",
    "for i in range(len(data)):\n",
    "    R_fighter = data.iloc[i]['R_fighter']\n",
    "    B_fighter = data.iloc[i]['B_fighter']\n",
    "    fight_date = data.iloc[i]['date']\n",
    "    R_last_date = None\n",
    "    B_last_date = None\n",
    "    # Get dataframes of each fighter \n",
    "    R_fights = data.iloc[i+1:, :].loc[(data['R_fighter'] == R_fighter) | (data['B_fighter'] == R_fighter)]\n",
    "    B_fights = data.iloc[i+1:, :].loc[(data['R_fighter'] == B_fighter) | (data['B_fighter'] == B_fighter)]\n",
    "    # get first row that date != current date\n",
    "    for _, R_fight in R_fights.iterrows():\n",
    "        if R_fight['date'] != fight_date:\n",
    "            R_last_date = R_fight['date']\n",
    "            break\n",
    "    for _, B_fight in B_fights.iterrows():\n",
    "        if B_fight['date'] != fight_date:\n",
    "            B_last_date = B_fight['date']\n",
    "            break\n",
    "    # if no previous fight found, set last fight date as current fight date \n",
    "    if R_last_date is None:\n",
    "        R_last_date = fight_date\n",
    "    if B_last_date is None:\n",
    "        B_last_date = fight_date\n",
    "    # append difference of two dates to respective list\n",
    "    R_last_match.append(fight_date - R_last_date)\n",
    "    B_last_match.append(fight_date - B_last_date)\n",
    "\n"
   ]
  },
  {
   "cell_type": "code",
   "execution_count": 242,
   "metadata": {},
   "outputs": [],
   "source": [
    "# convert time last fought lists to categories \n",
    "# 0: 0-90 days \n",
    "# 1: 90-180 days \n",
    "# 2: 180-270 days \n",
    "# 3: 270-360 days\n",
    "# 4: more than 360 days\n",
    "# 5: never fought \n",
    "def time_last_fought_category(time_last_fought):\n",
    "    categorized = []\n",
    "    for x in time_last_fought:\n",
    "        if x < datetime.timedelta(days = 1):\n",
    "            categorized.append(5)\n",
    "        elif x < datetime.timedelta(days=90):\n",
    "            categorized.append(0)\n",
    "        elif x < datetime.timedelta(days = 180):\n",
    "            categorized.append(1)\n",
    "        elif x < datetime.timedelta(days = 270):\n",
    "            categorized.append(2)\n",
    "        elif x < datetime.timedelta(days =360):\n",
    "            categorized.append(3)\n",
    "        else:\n",
    "            categorized.append(4)\n",
    "    return categorized "
   ]
  },
  {
   "cell_type": "code",
   "execution_count": 243,
   "metadata": {},
   "outputs": [],
   "source": [
    "# add last_match categories to data\n",
    "R_last_match = time_last_fought_category(R_last_match)\n",
    "B_last_match = time_last_fought_category(B_last_match)\n",
    "data['R_last_match'] = R_last_match\n",
    "data['B_last_match'] = B_last_match"
   ]
  },
  {
   "cell_type": "code",
   "execution_count": 244,
   "metadata": {},
   "outputs": [],
   "source": [
    "# add column called winrate\n",
    "data['B_winrate'] = data['B_wins'] / (data['B_wins'] + data['B_losses'] + data['B_draw'])\n",
    "data['R_winrate'] = data['R_wins'] / (data['R_wins'] + data['R_losses'] + data['R_draw'])"
   ]
  },
  {
   "cell_type": "code",
   "execution_count": 245,
   "metadata": {},
   "outputs": [
    {
     "output_type": "execute_result",
     "data": {
      "text/plain": [
       "                   R_fighter            B_fighter        Referee       date  \\\n",
       "0               Adrian Yanez        Gustavo Lopez  Chris Tognoni 2021-03-20   \n",
       "1               Trevin Giles        Roman Dolidze      Herb Dean 2021-03-20   \n",
       "2                Tai Tuivasa      Harry Hunsucker      Herb Dean 2021-03-20   \n",
       "3              Cheyanne Buys    Montserrat Conejo     Mark Smith 2021-03-20   \n",
       "4              Marion Reneau        Macy Chiasson     Mark Smith 2021-03-20   \n",
       "...                      ...                  ...            ...        ...   \n",
       "2014          Yair Rodriguez              BJ Penn  John McCarthy 2017-01-15   \n",
       "2015        Bojan Mihajlovic  Joachim Christensen      Nic Jones 2017-01-15   \n",
       "2016             Walt Harris        Chase Sherman      Al Guinee 2017-01-15   \n",
       "2017       Dmitrii Smoliakov          Cyril Asker      Al Guinee 2017-01-15   \n",
       "2018  Jocelyn Jones-Lybarger        Nina Ansaroff      Nic Jones 2017-01-15   \n",
       "\n",
       "                    location Winner  title_bout       weight_class  B_avg_KD  \\\n",
       "0     Las Vegas, Nevada, USA    Red       False       Bantamweight  0.000000   \n",
       "1     Las Vegas, Nevada, USA    Red       False       Middleweight  0.500000   \n",
       "2     Las Vegas, Nevada, USA    Red       False        Heavyweight       NaN   \n",
       "3     Las Vegas, Nevada, USA   Blue       False   WomenStrawweight       NaN   \n",
       "4     Las Vegas, Nevada, USA   Blue       False  WomenBantamweight  0.125000   \n",
       "...                      ...    ...         ...                ...       ...   \n",
       "2014   Phoenix, Arizona, USA    Red       False      Featherweight  0.032227   \n",
       "2015   Phoenix, Arizona, USA   Blue       False   LightHeavyweight  1.000000   \n",
       "2016   Phoenix, Arizona, USA    Red       False        Heavyweight  0.000000   \n",
       "2017   Phoenix, Arizona, USA   Blue       False        Heavyweight  0.000000   \n",
       "2018   Phoenix, Arizona, USA   Blue       False   WomenStrawweight  0.000000   \n",
       "\n",
       "      B_avg_opp_KD  ...       name_B_fighter  views_B_fighter  \\\n",
       "0              0.0  ...        Gustavo Lopez         470547.0   \n",
       "1              0.0  ...        Roman Dolidze        1323650.0   \n",
       "2              NaN  ...                  NaN              NaN   \n",
       "3              NaN  ...    Montserrat Conejo         801950.0   \n",
       "4              0.0  ...        Macy Chiasson         234280.0   \n",
       "...            ...  ...                  ...              ...   \n",
       "2014           0.0  ...              BJ Penn       18916424.0   \n",
       "2015           0.0  ...  Joachim Christensen        1516189.0   \n",
       "2016           0.0  ...        Chase Sherman        1112229.0   \n",
       "2017           1.0  ...          Cyril Asker        1003739.0   \n",
       "2018           0.0  ...        Nina Ansaroff        1794739.0   \n",
       "\n",
       "      likes_B_fighter  dislikes_B_fighter  commentCounts_B_fighter  \\\n",
       "0             26606.0               556.0                   3214.0   \n",
       "1             12765.0               476.0                   1266.0   \n",
       "2                 NaN                 NaN                      NaN   \n",
       "3              6992.0               718.0                   1912.0   \n",
       "4              3145.0               283.0                    864.0   \n",
       "...               ...                 ...                      ...   \n",
       "2014         104080.0              7643.0                  23494.0   \n",
       "2015          13145.0               620.0                   2463.0   \n",
       "2016          10134.0               935.0                   1232.0   \n",
       "2017          13661.0               756.0                   1983.0   \n",
       "2018          16793.0              2312.0                   5453.0   \n",
       "\n",
       "      favoriteCounts_B_fighter  R_last_match  B_last_match  B_winrate  \\\n",
       "0                          0.0             1             1   0.500000   \n",
       "1                          0.0             1             1   1.000000   \n",
       "2                          NaN             1             5        NaN   \n",
       "3                          0.0             5             5        NaN   \n",
       "4                          0.0             3             4   0.800000   \n",
       "...                        ...           ...           ...        ...   \n",
       "2014                       0.0             5             5   0.521739   \n",
       "2015                       0.0             5             5   0.000000   \n",
       "2016                       0.0             5             5   0.000000   \n",
       "2017                       0.0             5             5   0.000000   \n",
       "2018                       0.0             5             5   0.000000   \n",
       "\n",
       "      R_winrate  \n",
       "0      1.000000  \n",
       "1      0.666667  \n",
       "2      0.571429  \n",
       "3           NaN  \n",
       "4      0.454545  \n",
       "...         ...  \n",
       "2014   1.000000  \n",
       "2015   0.000000  \n",
       "2016   0.200000  \n",
       "2017   0.000000  \n",
       "2018   0.000000  \n",
       "\n",
       "[1978 rows x 163 columns]"
      ],
      "text/html": "<div>\n<style scoped>\n    .dataframe tbody tr th:only-of-type {\n        vertical-align: middle;\n    }\n\n    .dataframe tbody tr th {\n        vertical-align: top;\n    }\n\n    .dataframe thead th {\n        text-align: right;\n    }\n</style>\n<table border=\"1\" class=\"dataframe\">\n  <thead>\n    <tr style=\"text-align: right;\">\n      <th></th>\n      <th>R_fighter</th>\n      <th>B_fighter</th>\n      <th>Referee</th>\n      <th>date</th>\n      <th>location</th>\n      <th>Winner</th>\n      <th>title_bout</th>\n      <th>weight_class</th>\n      <th>B_avg_KD</th>\n      <th>B_avg_opp_KD</th>\n      <th>...</th>\n      <th>name_B_fighter</th>\n      <th>views_B_fighter</th>\n      <th>likes_B_fighter</th>\n      <th>dislikes_B_fighter</th>\n      <th>commentCounts_B_fighter</th>\n      <th>favoriteCounts_B_fighter</th>\n      <th>R_last_match</th>\n      <th>B_last_match</th>\n      <th>B_winrate</th>\n      <th>R_winrate</th>\n    </tr>\n  </thead>\n  <tbody>\n    <tr>\n      <th>0</th>\n      <td>Adrian Yanez</td>\n      <td>Gustavo Lopez</td>\n      <td>Chris Tognoni</td>\n      <td>2021-03-20</td>\n      <td>Las Vegas, Nevada, USA</td>\n      <td>Red</td>\n      <td>False</td>\n      <td>Bantamweight</td>\n      <td>0.000000</td>\n      <td>0.0</td>\n      <td>...</td>\n      <td>Gustavo Lopez</td>\n      <td>470547.0</td>\n      <td>26606.0</td>\n      <td>556.0</td>\n      <td>3214.0</td>\n      <td>0.0</td>\n      <td>1</td>\n      <td>1</td>\n      <td>0.500000</td>\n      <td>1.000000</td>\n    </tr>\n    <tr>\n      <th>1</th>\n      <td>Trevin Giles</td>\n      <td>Roman Dolidze</td>\n      <td>Herb Dean</td>\n      <td>2021-03-20</td>\n      <td>Las Vegas, Nevada, USA</td>\n      <td>Red</td>\n      <td>False</td>\n      <td>Middleweight</td>\n      <td>0.500000</td>\n      <td>0.0</td>\n      <td>...</td>\n      <td>Roman Dolidze</td>\n      <td>1323650.0</td>\n      <td>12765.0</td>\n      <td>476.0</td>\n      <td>1266.0</td>\n      <td>0.0</td>\n      <td>1</td>\n      <td>1</td>\n      <td>1.000000</td>\n      <td>0.666667</td>\n    </tr>\n    <tr>\n      <th>2</th>\n      <td>Tai Tuivasa</td>\n      <td>Harry Hunsucker</td>\n      <td>Herb Dean</td>\n      <td>2021-03-20</td>\n      <td>Las Vegas, Nevada, USA</td>\n      <td>Red</td>\n      <td>False</td>\n      <td>Heavyweight</td>\n      <td>NaN</td>\n      <td>NaN</td>\n      <td>...</td>\n      <td>NaN</td>\n      <td>NaN</td>\n      <td>NaN</td>\n      <td>NaN</td>\n      <td>NaN</td>\n      <td>NaN</td>\n      <td>1</td>\n      <td>5</td>\n      <td>NaN</td>\n      <td>0.571429</td>\n    </tr>\n    <tr>\n      <th>3</th>\n      <td>Cheyanne Buys</td>\n      <td>Montserrat Conejo</td>\n      <td>Mark Smith</td>\n      <td>2021-03-20</td>\n      <td>Las Vegas, Nevada, USA</td>\n      <td>Blue</td>\n      <td>False</td>\n      <td>WomenStrawweight</td>\n      <td>NaN</td>\n      <td>NaN</td>\n      <td>...</td>\n      <td>Montserrat Conejo</td>\n      <td>801950.0</td>\n      <td>6992.0</td>\n      <td>718.0</td>\n      <td>1912.0</td>\n      <td>0.0</td>\n      <td>5</td>\n      <td>5</td>\n      <td>NaN</td>\n      <td>NaN</td>\n    </tr>\n    <tr>\n      <th>4</th>\n      <td>Marion Reneau</td>\n      <td>Macy Chiasson</td>\n      <td>Mark Smith</td>\n      <td>2021-03-20</td>\n      <td>Las Vegas, Nevada, USA</td>\n      <td>Blue</td>\n      <td>False</td>\n      <td>WomenBantamweight</td>\n      <td>0.125000</td>\n      <td>0.0</td>\n      <td>...</td>\n      <td>Macy Chiasson</td>\n      <td>234280.0</td>\n      <td>3145.0</td>\n      <td>283.0</td>\n      <td>864.0</td>\n      <td>0.0</td>\n      <td>3</td>\n      <td>4</td>\n      <td>0.800000</td>\n      <td>0.454545</td>\n    </tr>\n    <tr>\n      <th>...</th>\n      <td>...</td>\n      <td>...</td>\n      <td>...</td>\n      <td>...</td>\n      <td>...</td>\n      <td>...</td>\n      <td>...</td>\n      <td>...</td>\n      <td>...</td>\n      <td>...</td>\n      <td>...</td>\n      <td>...</td>\n      <td>...</td>\n      <td>...</td>\n      <td>...</td>\n      <td>...</td>\n      <td>...</td>\n      <td>...</td>\n      <td>...</td>\n      <td>...</td>\n      <td>...</td>\n    </tr>\n    <tr>\n      <th>2014</th>\n      <td>Yair Rodriguez</td>\n      <td>BJ Penn</td>\n      <td>John McCarthy</td>\n      <td>2017-01-15</td>\n      <td>Phoenix, Arizona, USA</td>\n      <td>Red</td>\n      <td>False</td>\n      <td>Featherweight</td>\n      <td>0.032227</td>\n      <td>0.0</td>\n      <td>...</td>\n      <td>BJ Penn</td>\n      <td>18916424.0</td>\n      <td>104080.0</td>\n      <td>7643.0</td>\n      <td>23494.0</td>\n      <td>0.0</td>\n      <td>5</td>\n      <td>5</td>\n      <td>0.521739</td>\n      <td>1.000000</td>\n    </tr>\n    <tr>\n      <th>2015</th>\n      <td>Bojan Mihajlovic</td>\n      <td>Joachim Christensen</td>\n      <td>Nic Jones</td>\n      <td>2017-01-15</td>\n      <td>Phoenix, Arizona, USA</td>\n      <td>Blue</td>\n      <td>False</td>\n      <td>LightHeavyweight</td>\n      <td>1.000000</td>\n      <td>0.0</td>\n      <td>...</td>\n      <td>Joachim Christensen</td>\n      <td>1516189.0</td>\n      <td>13145.0</td>\n      <td>620.0</td>\n      <td>2463.0</td>\n      <td>0.0</td>\n      <td>5</td>\n      <td>5</td>\n      <td>0.000000</td>\n      <td>0.000000</td>\n    </tr>\n    <tr>\n      <th>2016</th>\n      <td>Walt Harris</td>\n      <td>Chase Sherman</td>\n      <td>Al Guinee</td>\n      <td>2017-01-15</td>\n      <td>Phoenix, Arizona, USA</td>\n      <td>Red</td>\n      <td>False</td>\n      <td>Heavyweight</td>\n      <td>0.000000</td>\n      <td>0.0</td>\n      <td>...</td>\n      <td>Chase Sherman</td>\n      <td>1112229.0</td>\n      <td>10134.0</td>\n      <td>935.0</td>\n      <td>1232.0</td>\n      <td>0.0</td>\n      <td>5</td>\n      <td>5</td>\n      <td>0.000000</td>\n      <td>0.200000</td>\n    </tr>\n    <tr>\n      <th>2017</th>\n      <td>Dmitrii Smoliakov</td>\n      <td>Cyril Asker</td>\n      <td>Al Guinee</td>\n      <td>2017-01-15</td>\n      <td>Phoenix, Arizona, USA</td>\n      <td>Blue</td>\n      <td>False</td>\n      <td>Heavyweight</td>\n      <td>0.000000</td>\n      <td>1.0</td>\n      <td>...</td>\n      <td>Cyril Asker</td>\n      <td>1003739.0</td>\n      <td>13661.0</td>\n      <td>756.0</td>\n      <td>1983.0</td>\n      <td>0.0</td>\n      <td>5</td>\n      <td>5</td>\n      <td>0.000000</td>\n      <td>0.000000</td>\n    </tr>\n    <tr>\n      <th>2018</th>\n      <td>Jocelyn Jones-Lybarger</td>\n      <td>Nina Ansaroff</td>\n      <td>Nic Jones</td>\n      <td>2017-01-15</td>\n      <td>Phoenix, Arizona, USA</td>\n      <td>Blue</td>\n      <td>False</td>\n      <td>WomenStrawweight</td>\n      <td>0.000000</td>\n      <td>0.0</td>\n      <td>...</td>\n      <td>Nina Ansaroff</td>\n      <td>1794739.0</td>\n      <td>16793.0</td>\n      <td>2312.0</td>\n      <td>5453.0</td>\n      <td>0.0</td>\n      <td>5</td>\n      <td>5</td>\n      <td>0.000000</td>\n      <td>0.000000</td>\n    </tr>\n  </tbody>\n</table>\n<p>1978 rows × 163 columns</p>\n</div>"
     },
     "metadata": {},
     "execution_count": 245
    }
   ],
   "source": [
    "data = data[data['Winner'] != 'Draw']  \n",
    "data"
   ]
  },
  {
   "cell_type": "code",
   "execution_count": 246,
   "metadata": {},
   "outputs": [
    {
     "output_type": "stream",
     "name": "stderr",
     "text": [
      "<ipython-input-246-cd437e08512a>:2: SettingWithCopyWarning: \nA value is trying to be set on a copy of a slice from a DataFrame.\nTry using .loc[row_indexer,col_indexer] = value instead\n\nSee the caveats in the documentation: https://pandas.pydata.org/pandas-docs/stable/user_guide/indexing.html#returning-a-view-versus-a-copy\n  data['red_Won'] = data['Winner'] == 'Red'\n<ipython-input-246-cd437e08512a>:3: SettingWithCopyWarning: \nA value is trying to be set on a copy of a slice from a DataFrame.\nTry using .loc[row_indexer,col_indexer] = value instead\n\nSee the caveats in the documentation: https://pandas.pydata.org/pandas-docs/stable/user_guide/indexing.html#returning-a-view-versus-a-copy\n  data['red_Won'] = data['red_Won'].astype(int)\n"
     ]
    }
   ],
   "source": [
    "# add new column to data that is 1 if red wins and 0 if blue wins \n",
    "data['red_Won'] = data['Winner'] == 'Red'\n",
    "data['red_Won'] = data['red_Won'].astype(int)"
   ]
  },
  {
   "cell_type": "code",
   "execution_count": 247,
   "metadata": {},
   "outputs": [
    {
     "output_type": "execute_result",
     "data": {
      "text/plain": [
       "R_fighter         0\n",
       "B_fighter         0\n",
       "Referee          16\n",
       "date              0\n",
       "location          0\n",
       "               ... \n",
       "R_last_match      0\n",
       "B_last_match      0\n",
       "B_winrate       359\n",
       "R_winrate       155\n",
       "red_Won           0\n",
       "Length: 164, dtype: int64"
      ]
     },
     "metadata": {},
     "execution_count": 247
    }
   ],
   "source": [
    "# check for null values\n",
    "data.isna().sum()"
   ]
  },
  {
   "cell_type": "code",
   "execution_count": 248,
   "metadata": {},
   "outputs": [
    {
     "output_type": "stream",
     "name": "stderr",
     "text": [
      "<ipython-input-248-6c23de7753c5>:2: SettingWithCopyWarning: \nA value is trying to be set on a copy of a slice from a DataFrame.\nTry using .loc[row_indexer,col_indexer] = value instead\n\nSee the caveats in the documentation: https://pandas.pydata.org/pandas-docs/stable/user_guide/indexing.html#returning-a-view-versus-a-copy\n  data['views_R_fighter'] = data['views_R_fighter'].fillna(0)\n<ipython-input-248-6c23de7753c5>:3: SettingWithCopyWarning: \nA value is trying to be set on a copy of a slice from a DataFrame.\nTry using .loc[row_indexer,col_indexer] = value instead\n\nSee the caveats in the documentation: https://pandas.pydata.org/pandas-docs/stable/user_guide/indexing.html#returning-a-view-versus-a-copy\n  data['views_B_fighter'] = data['views_B_fighter'].fillna(0)\n<ipython-input-248-6c23de7753c5>:4: SettingWithCopyWarning: \nA value is trying to be set on a copy of a slice from a DataFrame.\nTry using .loc[row_indexer,col_indexer] = value instead\n\nSee the caveats in the documentation: https://pandas.pydata.org/pandas-docs/stable/user_guide/indexing.html#returning-a-view-versus-a-copy\n  data['likes_R_fighter'] = data['likes_R_fighter'].fillna(0)\n<ipython-input-248-6c23de7753c5>:5: SettingWithCopyWarning: \nA value is trying to be set on a copy of a slice from a DataFrame.\nTry using .loc[row_indexer,col_indexer] = value instead\n\nSee the caveats in the documentation: https://pandas.pydata.org/pandas-docs/stable/user_guide/indexing.html#returning-a-view-versus-a-copy\n  data['likes_B_fighter'] = data['likes_B_fighter'].fillna(0)\n<ipython-input-248-6c23de7753c5>:6: SettingWithCopyWarning: \nA value is trying to be set on a copy of a slice from a DataFrame.\nTry using .loc[row_indexer,col_indexer] = value instead\n\nSee the caveats in the documentation: https://pandas.pydata.org/pandas-docs/stable/user_guide/indexing.html#returning-a-view-versus-a-copy\n  data['dislikes_R_fighter'] = data['dislikes_R_fighter'].fillna(0)\n<ipython-input-248-6c23de7753c5>:7: SettingWithCopyWarning: \nA value is trying to be set on a copy of a slice from a DataFrame.\nTry using .loc[row_indexer,col_indexer] = value instead\n\nSee the caveats in the documentation: https://pandas.pydata.org/pandas-docs/stable/user_guide/indexing.html#returning-a-view-versus-a-copy\n  data['dislikes_B_fighter'] = data['dislikes_B_fighter'].fillna(0)\n<ipython-input-248-6c23de7753c5>:8: SettingWithCopyWarning: \nA value is trying to be set on a copy of a slice from a DataFrame.\nTry using .loc[row_indexer,col_indexer] = value instead\n\nSee the caveats in the documentation: https://pandas.pydata.org/pandas-docs/stable/user_guide/indexing.html#returning-a-view-versus-a-copy\n  data['commentCounts_R_fighter'] = data['commentCounts_R_fighter'].fillna(0)\n<ipython-input-248-6c23de7753c5>:9: SettingWithCopyWarning: \nA value is trying to be set on a copy of a slice from a DataFrame.\nTry using .loc[row_indexer,col_indexer] = value instead\n\nSee the caveats in the documentation: https://pandas.pydata.org/pandas-docs/stable/user_guide/indexing.html#returning-a-view-versus-a-copy\n  data['commentCounts_B_fighter'] = data['commentCounts_B_fighter'].fillna(0)\n"
     ]
    },
    {
     "output_type": "execute_result",
     "data": {
      "text/plain": [
       "R_fighter         0\n",
       "B_fighter         0\n",
       "Referee          16\n",
       "date              0\n",
       "location          0\n",
       "               ... \n",
       "R_last_match      0\n",
       "B_last_match      0\n",
       "B_winrate       359\n",
       "R_winrate       155\n",
       "red_Won           0\n",
       "Length: 164, dtype: int64"
      ]
     },
     "metadata": {},
     "execution_count": 248
    }
   ],
   "source": [
    "\n",
    "# because youtube data was pulled using the youtube API, we can assume NA means 0\n",
    "data['views_R_fighter'] = data['views_R_fighter'].fillna(0)\n",
    "data['views_B_fighter'] = data['views_B_fighter'].fillna(0)\n",
    "data['likes_R_fighter'] = data['likes_R_fighter'].fillna(0)\n",
    "data['likes_B_fighter'] = data['likes_B_fighter'].fillna(0)\n",
    "data['dislikes_R_fighter'] = data['dislikes_R_fighter'].fillna(0)\n",
    "data['dislikes_B_fighter'] = data['dislikes_B_fighter'].fillna(0)\n",
    "data['commentCounts_R_fighter'] = data['commentCounts_R_fighter'].fillna(0)\n",
    "data['commentCounts_B_fighter'] = data['commentCounts_B_fighter'].fillna(0)\n",
    "\n",
    "data.isna().sum()"
   ]
  },
  {
   "cell_type": "code",
   "execution_count": 249,
   "metadata": {},
   "outputs": [
    {
     "output_type": "stream",
     "name": "stderr",
     "text": [
      "<ipython-input-249-9bfeacfb06c1>:2: SettingWithCopyWarning: \nA value is trying to be set on a copy of a slice from a DataFrame.\nTry using .loc[row_indexer,col_indexer] = value instead\n\nSee the caveats in the documentation: https://pandas.pydata.org/pandas-docs/stable/user_guide/indexing.html#returning-a-view-versus-a-copy\n  data['R_likesRate'] = data['likes_R_fighter']/(data['likes_R_fighter'] + data['dislikes_R_fighter'])\n<ipython-input-249-9bfeacfb06c1>:3: SettingWithCopyWarning: \nA value is trying to be set on a copy of a slice from a DataFrame.\nTry using .loc[row_indexer,col_indexer] = value instead\n\nSee the caveats in the documentation: https://pandas.pydata.org/pandas-docs/stable/user_guide/indexing.html#returning-a-view-versus-a-copy\n  data['B_likesRate'] = data['likes_B_fighter']/(data['likes_B_fighter'] + data['dislikes_B_fighter'])\n"
     ]
    }
   ],
   "source": [
    "# add likes rate \n",
    "data['R_likesRate'] = data['likes_R_fighter']/(data['likes_R_fighter'] + data['dislikes_R_fighter'])\n",
    "data['B_likesRate'] = data['likes_B_fighter']/(data['likes_B_fighter'] + data['dislikes_B_fighter'])"
   ]
  },
  {
   "cell_type": "code",
   "execution_count": 250,
   "metadata": {},
   "outputs": [
    {
     "output_type": "stream",
     "name": "stderr",
     "text": [
      "<ipython-input-250-2d8b46ad6460>:1: SettingWithCopyWarning: \nA value is trying to be set on a copy of a slice from a DataFrame.\nTry using .loc[row_indexer,col_indexer] = value instead\n\nSee the caveats in the documentation: https://pandas.pydata.org/pandas-docs/stable/user_guide/indexing.html#returning-a-view-versus-a-copy\n  data['R_likesRate'] = data['R_likesRate'].fillna(0)\n<ipython-input-250-2d8b46ad6460>:2: SettingWithCopyWarning: \nA value is trying to be set on a copy of a slice from a DataFrame.\nTry using .loc[row_indexer,col_indexer] = value instead\n\nSee the caveats in the documentation: https://pandas.pydata.org/pandas-docs/stable/user_guide/indexing.html#returning-a-view-versus-a-copy\n  data['B_likesRate'] = data['B_likesRate'].fillna(0)\n"
     ]
    }
   ],
   "source": [
    "data['R_likesRate'] = data['R_likesRate'].fillna(0)\n",
    "data['B_likesRate'] = data['B_likesRate'].fillna(0)"
   ]
  },
  {
   "cell_type": "code",
   "execution_count": 251,
   "metadata": {},
   "outputs": [
    {
     "output_type": "execute_result",
     "data": {
      "text/plain": [
       "(array([134.,   4.,  26.,  93.,  90., 481., 353., 239., 127., 276.]),\n",
       " array([0. , 0.1, 0.2, 0.3, 0.4, 0.5, 0.6, 0.7, 0.8, 0.9, 1. ]),\n",
       " <BarContainer object of 10 artists>)"
      ]
     },
     "metadata": {},
     "execution_count": 251
    },
    {
     "output_type": "display_data",
     "data": {
      "text/plain": "<Figure size 432x288 with 1 Axes>",
      "image/svg+xml": "<?xml version=\"1.0\" encoding=\"utf-8\" standalone=\"no\"?>\n<!DOCTYPE svg PUBLIC \"-//W3C//DTD SVG 1.1//EN\"\n  \"http://www.w3.org/Graphics/SVG/1.1/DTD/svg11.dtd\">\n<!-- Created with matplotlib (https://matplotlib.org/) -->\n<svg height=\"250.143159pt\" version=\"1.1\" viewBox=\"0 0 375.2875 250.143159\" width=\"375.2875pt\" xmlns=\"http://www.w3.org/2000/svg\" xmlns:xlink=\"http://www.w3.org/1999/xlink\">\n <metadata>\n  <rdf:RDF xmlns:cc=\"http://creativecommons.org/ns#\" xmlns:dc=\"http://purl.org/dc/elements/1.1/\" xmlns:rdf=\"http://www.w3.org/1999/02/22-rdf-syntax-ns#\">\n   <cc:Work>\n    <dc:type rdf:resource=\"http://purl.org/dc/dcmitype/StillImage\"/>\n    <dc:date>2021-05-03T12:38:16.356162</dc:date>\n    <dc:format>image/svg+xml</dc:format>\n    <dc:creator>\n     <cc:Agent>\n      <dc:title>Matplotlib v3.3.0, https://matplotlib.org/</dc:title>\n     </cc:Agent>\n    </dc:creator>\n   </cc:Work>\n  </rdf:RDF>\n </metadata>\n <defs>\n  <style type=\"text/css\">*{stroke-linecap:butt;stroke-linejoin:round;}</style>\n </defs>\n <g id=\"figure_1\">\n  <g id=\"patch_1\">\n   <path d=\"M 0 250.143159 \nL 375.2875 250.143159 \nL 375.2875 0 \nL 0 0 \nz\n\" style=\"fill:none;\"/>\n  </g>\n  <g id=\"axes_1\">\n   <g id=\"patch_2\">\n    <path d=\"M 33.2875 226.265034 \nL 368.0875 226.265034 \nL 368.0875 8.825034 \nL 33.2875 8.825034 \nz\n\" style=\"fill:#ffffff;\"/>\n   </g>\n   <g id=\"patch_3\">\n    <path clip-path=\"url(#pa54b90280d)\" d=\"M 48.505682 226.265034 \nL 78.942045 226.265034 \nL 78.942045 168.573796 \nL 48.505682 168.573796 \nz\n\" style=\"fill:#1f77b4;\"/>\n   </g>\n   <g id=\"patch_4\">\n    <path clip-path=\"url(#pa54b90280d)\" d=\"M 78.942045 226.265034 \nL 109.378409 226.265034 \nL 109.378409 224.542907 \nL 78.942045 224.542907 \nz\n\" style=\"fill:#1f77b4;\"/>\n   </g>\n   <g id=\"patch_5\">\n    <path clip-path=\"url(#pa54b90280d)\" d=\"M 109.378409 226.265034 \nL 139.814773 226.265034 \nL 139.814773 215.071212 \nL 109.378409 215.071212 \nz\n\" style=\"fill:#1f77b4;\"/>\n   </g>\n   <g id=\"patch_6\">\n    <path clip-path=\"url(#pa54b90280d)\" d=\"M 139.814773 226.265034 \nL 170.251136 226.265034 \nL 170.251136 186.225592 \nL 139.814773 186.225592 \nz\n\" style=\"fill:#1f77b4;\"/>\n   </g>\n   <g id=\"patch_7\">\n    <path clip-path=\"url(#pa54b90280d)\" d=\"M 170.251136 226.265034 \nL 200.6875 226.265034 \nL 200.6875 187.517187 \nL 170.251136 187.517187 \nz\n\" style=\"fill:#1f77b4;\"/>\n   </g>\n   <g id=\"patch_8\">\n    <path clip-path=\"url(#pa54b90280d)\" d=\"M 200.6875 226.265034 \nL 231.123864 226.265034 \nL 231.123864 19.17932 \nL 200.6875 19.17932 \nz\n\" style=\"fill:#1f77b4;\"/>\n   </g>\n   <g id=\"patch_9\">\n    <path clip-path=\"url(#pa54b90280d)\" d=\"M 231.123864 226.265034 \nL 261.560227 226.265034 \nL 261.560227 74.287368 \nL 231.123864 74.287368 \nz\n\" style=\"fill:#1f77b4;\"/>\n   </g>\n   <g id=\"patch_10\">\n    <path clip-path=\"url(#pa54b90280d)\" d=\"M 261.560227 226.265034 \nL 291.996591 226.265034 \nL 291.996591 123.367974 \nL 261.560227 123.367974 \nz\n\" style=\"fill:#1f77b4;\"/>\n   </g>\n   <g id=\"patch_11\">\n    <path clip-path=\"url(#pa54b90280d)\" d=\"M 291.996591 226.265034 \nL 322.432955 226.265034 \nL 322.432955 171.587517 \nL 291.996591 171.587517 \nz\n\" style=\"fill:#1f77b4;\"/>\n   </g>\n   <g id=\"patch_12\">\n    <path clip-path=\"url(#pa54b90280d)\" d=\"M 322.432955 226.265034 \nL 352.869318 226.265034 \nL 352.869318 107.438304 \nL 322.432955 107.438304 \nz\n\" style=\"fill:#1f77b4;\"/>\n   </g>\n   <g id=\"matplotlib.axis_1\">\n    <g id=\"xtick_1\">\n     <g id=\"line2d_1\">\n      <defs>\n       <path d=\"M 0 0 \nL 0 3.5 \n\" id=\"m01364d7d5c\" style=\"stroke:#000000;stroke-width:0.8;\"/>\n      </defs>\n      <g>\n       <use style=\"stroke:#000000;stroke-width:0.8;\" x=\"48.505682\" xlink:href=\"#m01364d7d5c\" y=\"226.265034\"/>\n      </g>\n     </g>\n     <g id=\"text_1\">\n      <!-- 0.0 -->\n      <g transform=\"translate(40.554119 240.863472)scale(0.1 -0.1)\">\n       <defs>\n        <path d=\"M 31.78125 66.40625 \nQ 24.171875 66.40625 20.328125 58.90625 \nQ 16.5 51.421875 16.5 36.375 \nQ 16.5 21.390625 20.328125 13.890625 \nQ 24.171875 6.390625 31.78125 6.390625 \nQ 39.453125 6.390625 43.28125 13.890625 \nQ 47.125 21.390625 47.125 36.375 \nQ 47.125 51.421875 43.28125 58.90625 \nQ 39.453125 66.40625 31.78125 66.40625 \nz\nM 31.78125 74.21875 \nQ 44.046875 74.21875 50.515625 64.515625 \nQ 56.984375 54.828125 56.984375 36.375 \nQ 56.984375 17.96875 50.515625 8.265625 \nQ 44.046875 -1.421875 31.78125 -1.421875 \nQ 19.53125 -1.421875 13.0625 8.265625 \nQ 6.59375 17.96875 6.59375 36.375 \nQ 6.59375 54.828125 13.0625 64.515625 \nQ 19.53125 74.21875 31.78125 74.21875 \nz\n\" id=\"DejaVuSans-48\"/>\n        <path d=\"M 10.6875 12.40625 \nL 21 12.40625 \nL 21 0 \nL 10.6875 0 \nz\n\" id=\"DejaVuSans-46\"/>\n       </defs>\n       <use xlink:href=\"#DejaVuSans-48\"/>\n       <use x=\"63.623047\" xlink:href=\"#DejaVuSans-46\"/>\n       <use x=\"95.410156\" xlink:href=\"#DejaVuSans-48\"/>\n      </g>\n     </g>\n    </g>\n    <g id=\"xtick_2\">\n     <g id=\"line2d_2\">\n      <g>\n       <use style=\"stroke:#000000;stroke-width:0.8;\" x=\"109.378409\" xlink:href=\"#m01364d7d5c\" y=\"226.265034\"/>\n      </g>\n     </g>\n     <g id=\"text_2\">\n      <!-- 0.2 -->\n      <g transform=\"translate(101.426847 240.863472)scale(0.1 -0.1)\">\n       <defs>\n        <path d=\"M 19.1875 8.296875 \nL 53.609375 8.296875 \nL 53.609375 0 \nL 7.328125 0 \nL 7.328125 8.296875 \nQ 12.9375 14.109375 22.625 23.890625 \nQ 32.328125 33.6875 34.8125 36.53125 \nQ 39.546875 41.84375 41.421875 45.53125 \nQ 43.3125 49.21875 43.3125 52.78125 \nQ 43.3125 58.59375 39.234375 62.25 \nQ 35.15625 65.921875 28.609375 65.921875 \nQ 23.96875 65.921875 18.8125 64.3125 \nQ 13.671875 62.703125 7.8125 59.421875 \nL 7.8125 69.390625 \nQ 13.765625 71.78125 18.9375 73 \nQ 24.125 74.21875 28.421875 74.21875 \nQ 39.75 74.21875 46.484375 68.546875 \nQ 53.21875 62.890625 53.21875 53.421875 \nQ 53.21875 48.921875 51.53125 44.890625 \nQ 49.859375 40.875 45.40625 35.40625 \nQ 44.1875 33.984375 37.640625 27.21875 \nQ 31.109375 20.453125 19.1875 8.296875 \nz\n\" id=\"DejaVuSans-50\"/>\n       </defs>\n       <use xlink:href=\"#DejaVuSans-48\"/>\n       <use x=\"63.623047\" xlink:href=\"#DejaVuSans-46\"/>\n       <use x=\"95.410156\" xlink:href=\"#DejaVuSans-50\"/>\n      </g>\n     </g>\n    </g>\n    <g id=\"xtick_3\">\n     <g id=\"line2d_3\">\n      <g>\n       <use style=\"stroke:#000000;stroke-width:0.8;\" x=\"170.251136\" xlink:href=\"#m01364d7d5c\" y=\"226.265034\"/>\n      </g>\n     </g>\n     <g id=\"text_3\">\n      <!-- 0.4 -->\n      <g transform=\"translate(162.299574 240.863472)scale(0.1 -0.1)\">\n       <defs>\n        <path d=\"M 37.796875 64.3125 \nL 12.890625 25.390625 \nL 37.796875 25.390625 \nz\nM 35.203125 72.90625 \nL 47.609375 72.90625 \nL 47.609375 25.390625 \nL 58.015625 25.390625 \nL 58.015625 17.1875 \nL 47.609375 17.1875 \nL 47.609375 0 \nL 37.796875 0 \nL 37.796875 17.1875 \nL 4.890625 17.1875 \nL 4.890625 26.703125 \nz\n\" id=\"DejaVuSans-52\"/>\n       </defs>\n       <use xlink:href=\"#DejaVuSans-48\"/>\n       <use x=\"63.623047\" xlink:href=\"#DejaVuSans-46\"/>\n       <use x=\"95.410156\" xlink:href=\"#DejaVuSans-52\"/>\n      </g>\n     </g>\n    </g>\n    <g id=\"xtick_4\">\n     <g id=\"line2d_4\">\n      <g>\n       <use style=\"stroke:#000000;stroke-width:0.8;\" x=\"231.123864\" xlink:href=\"#m01364d7d5c\" y=\"226.265034\"/>\n      </g>\n     </g>\n     <g id=\"text_4\">\n      <!-- 0.6 -->\n      <g transform=\"translate(223.172301 240.863472)scale(0.1 -0.1)\">\n       <defs>\n        <path d=\"M 33.015625 40.375 \nQ 26.375 40.375 22.484375 35.828125 \nQ 18.609375 31.296875 18.609375 23.390625 \nQ 18.609375 15.53125 22.484375 10.953125 \nQ 26.375 6.390625 33.015625 6.390625 \nQ 39.65625 6.390625 43.53125 10.953125 \nQ 47.40625 15.53125 47.40625 23.390625 \nQ 47.40625 31.296875 43.53125 35.828125 \nQ 39.65625 40.375 33.015625 40.375 \nz\nM 52.59375 71.296875 \nL 52.59375 62.3125 \nQ 48.875 64.0625 45.09375 64.984375 \nQ 41.3125 65.921875 37.59375 65.921875 \nQ 27.828125 65.921875 22.671875 59.328125 \nQ 17.53125 52.734375 16.796875 39.40625 \nQ 19.671875 43.65625 24.015625 45.921875 \nQ 28.375 48.1875 33.59375 48.1875 \nQ 44.578125 48.1875 50.953125 41.515625 \nQ 57.328125 34.859375 57.328125 23.390625 \nQ 57.328125 12.15625 50.6875 5.359375 \nQ 44.046875 -1.421875 33.015625 -1.421875 \nQ 20.359375 -1.421875 13.671875 8.265625 \nQ 6.984375 17.96875 6.984375 36.375 \nQ 6.984375 53.65625 15.1875 63.9375 \nQ 23.390625 74.21875 37.203125 74.21875 \nQ 40.921875 74.21875 44.703125 73.484375 \nQ 48.484375 72.75 52.59375 71.296875 \nz\n\" id=\"DejaVuSans-54\"/>\n       </defs>\n       <use xlink:href=\"#DejaVuSans-48\"/>\n       <use x=\"63.623047\" xlink:href=\"#DejaVuSans-46\"/>\n       <use x=\"95.410156\" xlink:href=\"#DejaVuSans-54\"/>\n      </g>\n     </g>\n    </g>\n    <g id=\"xtick_5\">\n     <g id=\"line2d_5\">\n      <g>\n       <use style=\"stroke:#000000;stroke-width:0.8;\" x=\"291.996591\" xlink:href=\"#m01364d7d5c\" y=\"226.265034\"/>\n      </g>\n     </g>\n     <g id=\"text_5\">\n      <!-- 0.8 -->\n      <g transform=\"translate(284.045028 240.863472)scale(0.1 -0.1)\">\n       <defs>\n        <path d=\"M 31.78125 34.625 \nQ 24.75 34.625 20.71875 30.859375 \nQ 16.703125 27.09375 16.703125 20.515625 \nQ 16.703125 13.921875 20.71875 10.15625 \nQ 24.75 6.390625 31.78125 6.390625 \nQ 38.8125 6.390625 42.859375 10.171875 \nQ 46.921875 13.96875 46.921875 20.515625 \nQ 46.921875 27.09375 42.890625 30.859375 \nQ 38.875 34.625 31.78125 34.625 \nz\nM 21.921875 38.8125 \nQ 15.578125 40.375 12.03125 44.71875 \nQ 8.5 49.078125 8.5 55.328125 \nQ 8.5 64.0625 14.71875 69.140625 \nQ 20.953125 74.21875 31.78125 74.21875 \nQ 42.671875 74.21875 48.875 69.140625 \nQ 55.078125 64.0625 55.078125 55.328125 \nQ 55.078125 49.078125 51.53125 44.71875 \nQ 48 40.375 41.703125 38.8125 \nQ 48.828125 37.15625 52.796875 32.3125 \nQ 56.78125 27.484375 56.78125 20.515625 \nQ 56.78125 9.90625 50.3125 4.234375 \nQ 43.84375 -1.421875 31.78125 -1.421875 \nQ 19.734375 -1.421875 13.25 4.234375 \nQ 6.78125 9.90625 6.78125 20.515625 \nQ 6.78125 27.484375 10.78125 32.3125 \nQ 14.796875 37.15625 21.921875 38.8125 \nz\nM 18.3125 54.390625 \nQ 18.3125 48.734375 21.84375 45.5625 \nQ 25.390625 42.390625 31.78125 42.390625 \nQ 38.140625 42.390625 41.71875 45.5625 \nQ 45.3125 48.734375 45.3125 54.390625 \nQ 45.3125 60.0625 41.71875 63.234375 \nQ 38.140625 66.40625 31.78125 66.40625 \nQ 25.390625 66.40625 21.84375 63.234375 \nQ 18.3125 60.0625 18.3125 54.390625 \nz\n\" id=\"DejaVuSans-56\"/>\n       </defs>\n       <use xlink:href=\"#DejaVuSans-48\"/>\n       <use x=\"63.623047\" xlink:href=\"#DejaVuSans-46\"/>\n       <use x=\"95.410156\" xlink:href=\"#DejaVuSans-56\"/>\n      </g>\n     </g>\n    </g>\n    <g id=\"xtick_6\">\n     <g id=\"line2d_6\">\n      <g>\n       <use style=\"stroke:#000000;stroke-width:0.8;\" x=\"352.869318\" xlink:href=\"#m01364d7d5c\" y=\"226.265034\"/>\n      </g>\n     </g>\n     <g id=\"text_6\">\n      <!-- 1.0 -->\n      <g transform=\"translate(344.917756 240.863472)scale(0.1 -0.1)\">\n       <defs>\n        <path d=\"M 12.40625 8.296875 \nL 28.515625 8.296875 \nL 28.515625 63.921875 \nL 10.984375 60.40625 \nL 10.984375 69.390625 \nL 28.421875 72.90625 \nL 38.28125 72.90625 \nL 38.28125 8.296875 \nL 54.390625 8.296875 \nL 54.390625 0 \nL 12.40625 0 \nz\n\" id=\"DejaVuSans-49\"/>\n       </defs>\n       <use xlink:href=\"#DejaVuSans-49\"/>\n       <use x=\"63.623047\" xlink:href=\"#DejaVuSans-46\"/>\n       <use x=\"95.410156\" xlink:href=\"#DejaVuSans-48\"/>\n      </g>\n     </g>\n    </g>\n   </g>\n   <g id=\"matplotlib.axis_2\">\n    <g id=\"ytick_1\">\n     <g id=\"line2d_7\">\n      <defs>\n       <path d=\"M 0 0 \nL -3.5 0 \n\" id=\"m3719707c89\" style=\"stroke:#000000;stroke-width:0.8;\"/>\n      </defs>\n      <g>\n       <use style=\"stroke:#000000;stroke-width:0.8;\" x=\"33.2875\" xlink:href=\"#m3719707c89\" y=\"226.265034\"/>\n      </g>\n     </g>\n     <g id=\"text_7\">\n      <!-- 0 -->\n      <g transform=\"translate(19.925 230.064253)scale(0.1 -0.1)\">\n       <use xlink:href=\"#DejaVuSans-48\"/>\n      </g>\n     </g>\n    </g>\n    <g id=\"ytick_2\">\n     <g id=\"line2d_8\">\n      <g>\n       <use style=\"stroke:#000000;stroke-width:0.8;\" x=\"33.2875\" xlink:href=\"#m3719707c89\" y=\"183.211871\"/>\n      </g>\n     </g>\n     <g id=\"text_8\">\n      <!-- 100 -->\n      <g transform=\"translate(7.2 187.01109)scale(0.1 -0.1)\">\n       <use xlink:href=\"#DejaVuSans-49\"/>\n       <use x=\"63.623047\" xlink:href=\"#DejaVuSans-48\"/>\n       <use x=\"127.246094\" xlink:href=\"#DejaVuSans-48\"/>\n      </g>\n     </g>\n    </g>\n    <g id=\"ytick_3\">\n     <g id=\"line2d_9\">\n      <g>\n       <use style=\"stroke:#000000;stroke-width:0.8;\" x=\"33.2875\" xlink:href=\"#m3719707c89\" y=\"140.158708\"/>\n      </g>\n     </g>\n     <g id=\"text_9\">\n      <!-- 200 -->\n      <g transform=\"translate(7.2 143.957927)scale(0.1 -0.1)\">\n       <use xlink:href=\"#DejaVuSans-50\"/>\n       <use x=\"63.623047\" xlink:href=\"#DejaVuSans-48\"/>\n       <use x=\"127.246094\" xlink:href=\"#DejaVuSans-48\"/>\n      </g>\n     </g>\n    </g>\n    <g id=\"ytick_4\">\n     <g id=\"line2d_10\">\n      <g>\n       <use style=\"stroke:#000000;stroke-width:0.8;\" x=\"33.2875\" xlink:href=\"#m3719707c89\" y=\"97.105545\"/>\n      </g>\n     </g>\n     <g id=\"text_10\">\n      <!-- 300 -->\n      <g transform=\"translate(7.2 100.904764)scale(0.1 -0.1)\">\n       <defs>\n        <path d=\"M 40.578125 39.3125 \nQ 47.65625 37.796875 51.625 33 \nQ 55.609375 28.21875 55.609375 21.1875 \nQ 55.609375 10.40625 48.1875 4.484375 \nQ 40.765625 -1.421875 27.09375 -1.421875 \nQ 22.515625 -1.421875 17.65625 -0.515625 \nQ 12.796875 0.390625 7.625 2.203125 \nL 7.625 11.71875 \nQ 11.71875 9.328125 16.59375 8.109375 \nQ 21.484375 6.890625 26.8125 6.890625 \nQ 36.078125 6.890625 40.9375 10.546875 \nQ 45.796875 14.203125 45.796875 21.1875 \nQ 45.796875 27.640625 41.28125 31.265625 \nQ 36.765625 34.90625 28.71875 34.90625 \nL 20.21875 34.90625 \nL 20.21875 43.015625 \nL 29.109375 43.015625 \nQ 36.375 43.015625 40.234375 45.921875 \nQ 44.09375 48.828125 44.09375 54.296875 \nQ 44.09375 59.90625 40.109375 62.90625 \nQ 36.140625 65.921875 28.71875 65.921875 \nQ 24.65625 65.921875 20.015625 65.03125 \nQ 15.375 64.15625 9.8125 62.3125 \nL 9.8125 71.09375 \nQ 15.4375 72.65625 20.34375 73.4375 \nQ 25.25 74.21875 29.59375 74.21875 \nQ 40.828125 74.21875 47.359375 69.109375 \nQ 53.90625 64.015625 53.90625 55.328125 \nQ 53.90625 49.265625 50.4375 45.09375 \nQ 46.96875 40.921875 40.578125 39.3125 \nz\n\" id=\"DejaVuSans-51\"/>\n       </defs>\n       <use xlink:href=\"#DejaVuSans-51\"/>\n       <use x=\"63.623047\" xlink:href=\"#DejaVuSans-48\"/>\n       <use x=\"127.246094\" xlink:href=\"#DejaVuSans-48\"/>\n      </g>\n     </g>\n    </g>\n    <g id=\"ytick_5\">\n     <g id=\"line2d_11\">\n      <g>\n       <use style=\"stroke:#000000;stroke-width:0.8;\" x=\"33.2875\" xlink:href=\"#m3719707c89\" y=\"54.052382\"/>\n      </g>\n     </g>\n     <g id=\"text_11\">\n      <!-- 400 -->\n      <g transform=\"translate(7.2 57.851601)scale(0.1 -0.1)\">\n       <use xlink:href=\"#DejaVuSans-52\"/>\n       <use x=\"63.623047\" xlink:href=\"#DejaVuSans-48\"/>\n       <use x=\"127.246094\" xlink:href=\"#DejaVuSans-48\"/>\n      </g>\n     </g>\n    </g>\n    <g id=\"ytick_6\">\n     <g id=\"line2d_12\">\n      <g>\n       <use style=\"stroke:#000000;stroke-width:0.8;\" x=\"33.2875\" xlink:href=\"#m3719707c89\" y=\"10.999219\"/>\n      </g>\n     </g>\n     <g id=\"text_12\">\n      <!-- 500 -->\n      <g transform=\"translate(7.2 14.798437)scale(0.1 -0.1)\">\n       <defs>\n        <path d=\"M 10.796875 72.90625 \nL 49.515625 72.90625 \nL 49.515625 64.59375 \nL 19.828125 64.59375 \nL 19.828125 46.734375 \nQ 21.96875 47.46875 24.109375 47.828125 \nQ 26.265625 48.1875 28.421875 48.1875 \nQ 40.625 48.1875 47.75 41.5 \nQ 54.890625 34.8125 54.890625 23.390625 \nQ 54.890625 11.625 47.5625 5.09375 \nQ 40.234375 -1.421875 26.90625 -1.421875 \nQ 22.3125 -1.421875 17.546875 -0.640625 \nQ 12.796875 0.140625 7.71875 1.703125 \nL 7.71875 11.625 \nQ 12.109375 9.234375 16.796875 8.0625 \nQ 21.484375 6.890625 26.703125 6.890625 \nQ 35.15625 6.890625 40.078125 11.328125 \nQ 45.015625 15.765625 45.015625 23.390625 \nQ 45.015625 31 40.078125 35.4375 \nQ 35.15625 39.890625 26.703125 39.890625 \nQ 22.75 39.890625 18.8125 39.015625 \nQ 14.890625 38.140625 10.796875 36.28125 \nz\n\" id=\"DejaVuSans-53\"/>\n       </defs>\n       <use xlink:href=\"#DejaVuSans-53\"/>\n       <use x=\"63.623047\" xlink:href=\"#DejaVuSans-48\"/>\n       <use x=\"127.246094\" xlink:href=\"#DejaVuSans-48\"/>\n      </g>\n     </g>\n    </g>\n   </g>\n   <g id=\"patch_13\">\n    <path d=\"M 33.2875 226.265034 \nL 33.2875 8.825034 \n\" style=\"fill:none;stroke:#000000;stroke-linecap:square;stroke-linejoin:miter;stroke-width:0.8;\"/>\n   </g>\n   <g id=\"patch_14\">\n    <path d=\"M 368.0875 226.265034 \nL 368.0875 8.825034 \n\" style=\"fill:none;stroke:#000000;stroke-linecap:square;stroke-linejoin:miter;stroke-width:0.8;\"/>\n   </g>\n   <g id=\"patch_15\">\n    <path d=\"M 33.2875 226.265034 \nL 368.0875 226.265034 \n\" style=\"fill:none;stroke:#000000;stroke-linecap:square;stroke-linejoin:miter;stroke-width:0.8;\"/>\n   </g>\n   <g id=\"patch_16\">\n    <path d=\"M 33.2875 8.825034 \nL 368.0875 8.825034 \n\" style=\"fill:none;stroke:#000000;stroke-linecap:square;stroke-linejoin:miter;stroke-width:0.8;\"/>\n   </g>\n  </g>\n </g>\n <defs>\n  <clipPath id=\"pa54b90280d\">\n   <rect height=\"217.44\" width=\"334.8\" x=\"33.2875\" y=\"8.825034\"/>\n  </clipPath>\n </defs>\n</svg>\n",
      "image/png": "[encoded data removed]"
     },
     "metadata": {
      "needs_background": "light"
     }
    }
   ],
   "source": [
    "# look at winrate distribution, no nan values\n",
    "import math\n",
    "x = []\n",
    "for y in data['R_winrate']:\n",
    "    if not math.isnan(y):\n",
    "        x.append(y)\n",
    "plt.hist(x)"
   ]
  },
  {
   "cell_type": "code",
   "execution_count": 252,
   "metadata": {},
   "outputs": [],
   "source": [
    "# change stats into categories\n",
    "# split into 6 different groups:\n",
    "# 0: 0-19th percentile\n",
    "# 1: 20-39th percentile\n",
    "# 2: 40-59th percentile\n",
    "# 3: 60-79th percentile\n",
    "# 4: 80-100th percentile\n",
    "# 5: no stats\n",
    "def categorize_stats(stats):\n",
    "    stats_nonan = stats[~np.isnan(stats)]\n",
    "    zero = np.percentile(stats_nonan, 19)\n",
    "    one = np.percentile(stats_nonan, 39)\n",
    "    two = np.percentile(stats_nonan, 59)\n",
    "    three = np.percentile(stats_nonan, 79)\n",
    "    four = np.percentile(stats_nonan, 100)\n",
    "    categorized = []\n",
    "    for x in stats:\n",
    "        if x <= zero:\n",
    "            categorized.append(0)\n",
    "        elif x <= one:\n",
    "            categorized.append(1)\n",
    "        elif x <= two:\n",
    "            categorized.append(2)\n",
    "        elif x <= three:\n",
    "            categorized.append(3)\n",
    "        elif x <= four:\n",
    "            categorized.append(4)\n",
    "        else:\n",
    "            categorized.append(5)\n",
    "    return categorized\n",
    "\n",
    "\n"
   ]
  },
  {
   "cell_type": "code",
   "execution_count": 267,
   "metadata": {},
   "outputs": [
    {
     "output_type": "stream",
     "name": "stderr",
     "text": [
      "<ipython-input-267-0569ddf757e5>:24: SettingWithCopyWarning: \nA value is trying to be set on a copy of a slice from a DataFrame.\nTry using .loc[row_indexer,col_indexer] = value instead\n\nSee the caveats in the documentation: https://pandas.pydata.org/pandas-docs/stable/user_guide/indexing.html#returning-a-view-versus-a-copy\n  data[col] = categorize_stats(data[col])\n"
     ]
    }
   ],
   "source": [
    "# categorize chosen stats columns; these are columns that can only be filled if it is not a players first game\n",
    "to_categorize = ['B_avg_KD',\n",
    " 'B_avg_opp_KD',\n",
    " 'B_avg_SIG_STR_pct',\n",
    " 'B_avg_opp_SIG_STR_pct',\n",
    " 'B_avg_TD_pct',\n",
    " 'B_avg_opp_TD_pct',\n",
    " 'B_avg_SUB_ATT',\n",
    " 'B_avg_opp_SUB_ATT',\n",
    " 'R_avg_KD',\n",
    " 'R_avg_opp_KD',\n",
    " 'R_avg_SIG_STR_pct',\n",
    " 'R_avg_opp_SIG_STR_pct',\n",
    " 'R_avg_TD_pct',\n",
    " 'R_avg_opp_TD_pct',\n",
    " 'R_avg_SUB_ATT',\n",
    " 'R_avg_opp_SUB_ATT', \n",
    " 'R_winrate',\n",
    " 'B_winrate']\n",
    "\n",
    "\n",
    "# categorize chosen columns\n",
    "for col in to_categorize:\n",
    "     data[col] = categorize_stats(data[col])\n",
    "\n",
    "\n"
   ]
  },
  {
   "cell_type": "code",
   "execution_count": 268,
   "metadata": {},
   "outputs": [
    {
     "output_type": "execute_result",
     "data": {
      "text/plain": [
       "                   R_fighter            B_fighter        Referee       date  \\\n",
       "0               Adrian Yanez        Gustavo Lopez  Chris Tognoni 2021-03-20   \n",
       "1               Trevin Giles        Roman Dolidze      Herb Dean 2021-03-20   \n",
       "2                Tai Tuivasa      Harry Hunsucker      Herb Dean 2021-03-20   \n",
       "3              Cheyanne Buys    Montserrat Conejo     Mark Smith 2021-03-20   \n",
       "4              Marion Reneau        Macy Chiasson     Mark Smith 2021-03-20   \n",
       "...                      ...                  ...            ...        ...   \n",
       "2014          Yair Rodriguez              BJ Penn  John McCarthy 2017-01-15   \n",
       "2015        Bojan Mihajlovic  Joachim Christensen      Nic Jones 2017-01-15   \n",
       "2016             Walt Harris        Chase Sherman      Al Guinee 2017-01-15   \n",
       "2017       Dmitrii Smoliakov          Cyril Asker      Al Guinee 2017-01-15   \n",
       "2018  Jocelyn Jones-Lybarger        Nina Ansaroff      Nic Jones 2017-01-15   \n",
       "\n",
       "                    location Winner  title_bout       weight_class  B_avg_KD  \\\n",
       "0     Las Vegas, Nevada, USA    Red       False       Bantamweight         0   \n",
       "1     Las Vegas, Nevada, USA    Red       False       Middleweight         3   \n",
       "2     Las Vegas, Nevada, USA    Red       False        Heavyweight         5   \n",
       "3     Las Vegas, Nevada, USA   Blue       False   WomenStrawweight         5   \n",
       "4     Las Vegas, Nevada, USA   Blue       False  WomenBantamweight         2   \n",
       "...                      ...    ...         ...                ...       ...   \n",
       "2014   Phoenix, Arizona, USA    Red       False      Featherweight         2   \n",
       "2015   Phoenix, Arizona, USA   Blue       False   LightHeavyweight         4   \n",
       "2016   Phoenix, Arizona, USA    Red       False        Heavyweight         0   \n",
       "2017   Phoenix, Arizona, USA   Blue       False        Heavyweight         0   \n",
       "2018   Phoenix, Arizona, USA   Blue       False   WomenStrawweight         0   \n",
       "\n",
       "      B_avg_opp_KD  ...  dislikes_B_fighter  commentCounts_B_fighter  \\\n",
       "0                0  ...               556.0                   3214.0   \n",
       "1                0  ...               476.0                   1266.0   \n",
       "2                5  ...                 0.0                      0.0   \n",
       "3                5  ...               718.0                   1912.0   \n",
       "4                0  ...               283.0                    864.0   \n",
       "...            ...  ...                 ...                      ...   \n",
       "2014             0  ...              7643.0                  23494.0   \n",
       "2015             0  ...               620.0                   2463.0   \n",
       "2016             0  ...               935.0                   1232.0   \n",
       "2017             4  ...               756.0                   1983.0   \n",
       "2018             0  ...              2312.0                   5453.0   \n",
       "\n",
       "      favoriteCounts_B_fighter  R_last_match  B_last_match  B_winrate  \\\n",
       "0                          0.0             1             1          1   \n",
       "1                          0.0             1             1          4   \n",
       "2                          NaN             1             5          5   \n",
       "3                          0.0             5             5          5   \n",
       "4                          0.0             3             4          3   \n",
       "...                        ...           ...           ...        ...   \n",
       "2014                       0.0             5             5          2   \n",
       "2015                       0.0             5             5          0   \n",
       "2016                       0.0             5             5          0   \n",
       "2017                       0.0             5             5          0   \n",
       "2018                       0.0             5             5          0   \n",
       "\n",
       "      R_winrate  red_Won  R_likesRate  B_likesRate  \n",
       "0             4        1     0.921244     0.979530  \n",
       "1             2        1     0.912072     0.964051  \n",
       "2             1        1     0.936495     0.000000  \n",
       "3             5        0     0.901397     0.906874  \n",
       "4             0        0     0.923409     0.917445  \n",
       "...         ...      ...          ...          ...  \n",
       "2014          4        1     0.933768     0.931590  \n",
       "2015          0        0     0.854950     0.954958  \n",
       "2016          0        1     0.967342     0.915530  \n",
       "2017          0        0     0.850073     0.947562  \n",
       "2018          0        0     0.945912     0.878985  \n",
       "\n",
       "[1978 rows x 166 columns]"
      ],
      "text/html": "<div>\n<style scoped>\n    .dataframe tbody tr th:only-of-type {\n        vertical-align: middle;\n    }\n\n    .dataframe tbody tr th {\n        vertical-align: top;\n    }\n\n    .dataframe thead th {\n        text-align: right;\n    }\n</style>\n<table border=\"1\" class=\"dataframe\">\n  <thead>\n    <tr style=\"text-align: right;\">\n      <th></th>\n      <th>R_fighter</th>\n      <th>B_fighter</th>\n      <th>Referee</th>\n      <th>date</th>\n      <th>location</th>\n      <th>Winner</th>\n      <th>title_bout</th>\n      <th>weight_class</th>\n      <th>B_avg_KD</th>\n      <th>B_avg_opp_KD</th>\n      <th>...</th>\n      <th>dislikes_B_fighter</th>\n      <th>commentCounts_B_fighter</th>\n      <th>favoriteCounts_B_fighter</th>\n      <th>R_last_match</th>\n      <th>B_last_match</th>\n      <th>B_winrate</th>\n      <th>R_winrate</th>\n      <th>red_Won</th>\n      <th>R_likesRate</th>\n      <th>B_likesRate</th>\n    </tr>\n  </thead>\n  <tbody>\n    <tr>\n      <th>0</th>\n      <td>Adrian Yanez</td>\n      <td>Gustavo Lopez</td>\n      <td>Chris Tognoni</td>\n      <td>2021-03-20</td>\n      <td>Las Vegas, Nevada, USA</td>\n      <td>Red</td>\n      <td>False</td>\n      <td>Bantamweight</td>\n      <td>0</td>\n      <td>0</td>\n      <td>...</td>\n      <td>556.0</td>\n      <td>3214.0</td>\n      <td>0.0</td>\n      <td>1</td>\n      <td>1</td>\n      <td>1</td>\n      <td>4</td>\n      <td>1</td>\n      <td>0.921244</td>\n      <td>0.979530</td>\n    </tr>\n    <tr>\n      <th>1</th>\n      <td>Trevin Giles</td>\n      <td>Roman Dolidze</td>\n      <td>Herb Dean</td>\n      <td>2021-03-20</td>\n      <td>Las Vegas, Nevada, USA</td>\n      <td>Red</td>\n      <td>False</td>\n      <td>Middleweight</td>\n      <td>3</td>\n      <td>0</td>\n      <td>...</td>\n      <td>476.0</td>\n      <td>1266.0</td>\n      <td>0.0</td>\n      <td>1</td>\n      <td>1</td>\n      <td>4</td>\n      <td>2</td>\n      <td>1</td>\n      <td>0.912072</td>\n      <td>0.964051</td>\n    </tr>\n    <tr>\n      <th>2</th>\n      <td>Tai Tuivasa</td>\n      <td>Harry Hunsucker</td>\n      <td>Herb Dean</td>\n      <td>2021-03-20</td>\n      <td>Las Vegas, Nevada, USA</td>\n      <td>Red</td>\n      <td>False</td>\n      <td>Heavyweight</td>\n      <td>5</td>\n      <td>5</td>\n      <td>...</td>\n      <td>0.0</td>\n      <td>0.0</td>\n      <td>NaN</td>\n      <td>1</td>\n      <td>5</td>\n      <td>5</td>\n      <td>1</td>\n      <td>1</td>\n      <td>0.936495</td>\n      <td>0.000000</td>\n    </tr>\n    <tr>\n      <th>3</th>\n      <td>Cheyanne Buys</td>\n      <td>Montserrat Conejo</td>\n      <td>Mark Smith</td>\n      <td>2021-03-20</td>\n      <td>Las Vegas, Nevada, USA</td>\n      <td>Blue</td>\n      <td>False</td>\n      <td>WomenStrawweight</td>\n      <td>5</td>\n      <td>5</td>\n      <td>...</td>\n      <td>718.0</td>\n      <td>1912.0</td>\n      <td>0.0</td>\n      <td>5</td>\n      <td>5</td>\n      <td>5</td>\n      <td>5</td>\n      <td>0</td>\n      <td>0.901397</td>\n      <td>0.906874</td>\n    </tr>\n    <tr>\n      <th>4</th>\n      <td>Marion Reneau</td>\n      <td>Macy Chiasson</td>\n      <td>Mark Smith</td>\n      <td>2021-03-20</td>\n      <td>Las Vegas, Nevada, USA</td>\n      <td>Blue</td>\n      <td>False</td>\n      <td>WomenBantamweight</td>\n      <td>2</td>\n      <td>0</td>\n      <td>...</td>\n      <td>283.0</td>\n      <td>864.0</td>\n      <td>0.0</td>\n      <td>3</td>\n      <td>4</td>\n      <td>3</td>\n      <td>0</td>\n      <td>0</td>\n      <td>0.923409</td>\n      <td>0.917445</td>\n    </tr>\n    <tr>\n      <th>...</th>\n      <td>...</td>\n      <td>...</td>\n      <td>...</td>\n      <td>...</td>\n      <td>...</td>\n      <td>...</td>\n      <td>...</td>\n      <td>...</td>\n      <td>...</td>\n      <td>...</td>\n      <td>...</td>\n      <td>...</td>\n      <td>...</td>\n      <td>...</td>\n      <td>...</td>\n      <td>...</td>\n      <td>...</td>\n      <td>...</td>\n      <td>...</td>\n      <td>...</td>\n      <td>...</td>\n    </tr>\n    <tr>\n      <th>2014</th>\n      <td>Yair Rodriguez</td>\n      <td>BJ Penn</td>\n      <td>John McCarthy</td>\n      <td>2017-01-15</td>\n      <td>Phoenix, Arizona, USA</td>\n      <td>Red</td>\n      <td>False</td>\n      <td>Featherweight</td>\n      <td>2</td>\n      <td>0</td>\n      <td>...</td>\n      <td>7643.0</td>\n      <td>23494.0</td>\n      <td>0.0</td>\n      <td>5</td>\n      <td>5</td>\n      <td>2</td>\n      <td>4</td>\n      <td>1</td>\n      <td>0.933768</td>\n      <td>0.931590</td>\n    </tr>\n    <tr>\n      <th>2015</th>\n      <td>Bojan Mihajlovic</td>\n      <td>Joachim Christensen</td>\n      <td>Nic Jones</td>\n      <td>2017-01-15</td>\n      <td>Phoenix, Arizona, USA</td>\n      <td>Blue</td>\n      <td>False</td>\n      <td>LightHeavyweight</td>\n      <td>4</td>\n      <td>0</td>\n      <td>...</td>\n      <td>620.0</td>\n      <td>2463.0</td>\n      <td>0.0</td>\n      <td>5</td>\n      <td>5</td>\n      <td>0</td>\n      <td>0</td>\n      <td>0</td>\n      <td>0.854950</td>\n      <td>0.954958</td>\n    </tr>\n    <tr>\n      <th>2016</th>\n      <td>Walt Harris</td>\n      <td>Chase Sherman</td>\n      <td>Al Guinee</td>\n      <td>2017-01-15</td>\n      <td>Phoenix, Arizona, USA</td>\n      <td>Red</td>\n      <td>False</td>\n      <td>Heavyweight</td>\n      <td>0</td>\n      <td>0</td>\n      <td>...</td>\n      <td>935.0</td>\n      <td>1232.0</td>\n      <td>0.0</td>\n      <td>5</td>\n      <td>5</td>\n      <td>0</td>\n      <td>0</td>\n      <td>1</td>\n      <td>0.967342</td>\n      <td>0.915530</td>\n    </tr>\n    <tr>\n      <th>2017</th>\n      <td>Dmitrii Smoliakov</td>\n      <td>Cyril Asker</td>\n      <td>Al Guinee</td>\n      <td>2017-01-15</td>\n      <td>Phoenix, Arizona, USA</td>\n      <td>Blue</td>\n      <td>False</td>\n      <td>Heavyweight</td>\n      <td>0</td>\n      <td>4</td>\n      <td>...</td>\n      <td>756.0</td>\n      <td>1983.0</td>\n      <td>0.0</td>\n      <td>5</td>\n      <td>5</td>\n      <td>0</td>\n      <td>0</td>\n      <td>0</td>\n      <td>0.850073</td>\n      <td>0.947562</td>\n    </tr>\n    <tr>\n      <th>2018</th>\n      <td>Jocelyn Jones-Lybarger</td>\n      <td>Nina Ansaroff</td>\n      <td>Nic Jones</td>\n      <td>2017-01-15</td>\n      <td>Phoenix, Arizona, USA</td>\n      <td>Blue</td>\n      <td>False</td>\n      <td>WomenStrawweight</td>\n      <td>0</td>\n      <td>0</td>\n      <td>...</td>\n      <td>2312.0</td>\n      <td>5453.0</td>\n      <td>0.0</td>\n      <td>5</td>\n      <td>5</td>\n      <td>0</td>\n      <td>0</td>\n      <td>0</td>\n      <td>0.945912</td>\n      <td>0.878985</td>\n    </tr>\n  </tbody>\n</table>\n<p>1978 rows × 166 columns</p>\n</div>"
     },
     "metadata": {},
     "execution_count": 268
    }
   ],
   "source": [
    "data"
   ]
  },
  {
   "cell_type": "code",
   "execution_count": 269,
   "metadata": {},
   "outputs": [
    {
     "output_type": "execute_result",
     "data": {
      "text/plain": [
       "[0,\n",
       " 0,\n",
       " 16,\n",
       " 0,\n",
       " 0,\n",
       " 0,\n",
       " 0,\n",
       " 0,\n",
       " 0,\n",
       " 0,\n",
       " 0,\n",
       " 0,\n",
       " 0,\n",
       " 0,\n",
       " 0,\n",
       " 0,\n",
       " 359,\n",
       " 359,\n",
       " 359,\n",
       " 359,\n",
       " 359,\n",
       " 359,\n",
       " 359,\n",
       " 359,\n",
       " 359,\n",
       " 359,\n",
       " 359,\n",
       " 359,\n",
       " 359,\n",
       " 359,\n",
       " 359,\n",
       " 359,\n",
       " 359,\n",
       " 359,\n",
       " 359,\n",
       " 359,\n",
       " 359,\n",
       " 359,\n",
       " 359,\n",
       " 359,\n",
       " 359,\n",
       " 359,\n",
       " 359,\n",
       " 359,\n",
       " 359,\n",
       " 359,\n",
       " 359,\n",
       " 359,\n",
       " 359,\n",
       " 359,\n",
       " 359,\n",
       " 359,\n",
       " 359,\n",
       " 359,\n",
       " 359,\n",
       " 359,\n",
       " 359,\n",
       " 0,\n",
       " 0,\n",
       " 0,\n",
       " 0,\n",
       " 0,\n",
       " 0,\n",
       " 0,\n",
       " 0,\n",
       " 0,\n",
       " 0,\n",
       " 0,\n",
       " 0,\n",
       " 0,\n",
       " 0,\n",
       " 4,\n",
       " 0,\n",
       " 22,\n",
       " 0,\n",
       " 0,\n",
       " 0,\n",
       " 0,\n",
       " 0,\n",
       " 0,\n",
       " 0,\n",
       " 0,\n",
       " 0,\n",
       " 155,\n",
       " 155,\n",
       " 155,\n",
       " 155,\n",
       " 155,\n",
       " 155,\n",
       " 155,\n",
       " 155,\n",
       " 155,\n",
       " 155,\n",
       " 155,\n",
       " 155,\n",
       " 155,\n",
       " 155,\n",
       " 155,\n",
       " 155,\n",
       " 155,\n",
       " 155,\n",
       " 155,\n",
       " 155,\n",
       " 155,\n",
       " 155,\n",
       " 155,\n",
       " 155,\n",
       " 155,\n",
       " 155,\n",
       " 155,\n",
       " 155,\n",
       " 155,\n",
       " 155,\n",
       " 155,\n",
       " 155,\n",
       " 155,\n",
       " 155,\n",
       " 155,\n",
       " 155,\n",
       " 155,\n",
       " 155,\n",
       " 155,\n",
       " 155,\n",
       " 155,\n",
       " 0,\n",
       " 0,\n",
       " 0,\n",
       " 0,\n",
       " 0,\n",
       " 0,\n",
       " 0,\n",
       " 0,\n",
       " 0,\n",
       " 0,\n",
       " 0,\n",
       " 0,\n",
       " 0,\n",
       " 0,\n",
       " 7,\n",
       " 0,\n",
       " 9,\n",
       " 0,\n",
       " 0,\n",
       " 0,\n",
       " 0,\n",
       " 0,\n",
       " 0,\n",
       " 6,\n",
       " 0,\n",
       " 0,\n",
       " 0,\n",
       " 0,\n",
       " 6,\n",
       " 143,\n",
       " 0,\n",
       " 0,\n",
       " 0,\n",
       " 0,\n",
       " 143,\n",
       " 0,\n",
       " 0,\n",
       " 0,\n",
       " 0,\n",
       " 0,\n",
       " 0,\n",
       " 0]"
      ]
     },
     "metadata": {},
     "execution_count": 269
    }
   ],
   "source": [
    "# check for null values\n",
    "list(data.isna().sum())"
   ]
  },
  {
   "cell_type": "code",
   "execution_count": 270,
   "metadata": {},
   "outputs": [],
   "source": [
    "# drop uneeded cols\n",
    "data = data[['Referee', 'location', 'weight_class', 'R_last_match', 'B_last_match', 'B_Stance', 'R_Stance', 'B_avg_KD',\n",
    " 'B_avg_opp_KD',\n",
    " 'B_avg_SIG_STR_pct',\n",
    " 'B_avg_opp_SIG_STR_pct',\n",
    " 'B_avg_TD_pct',\n",
    " 'B_avg_opp_TD_pct',\n",
    " 'B_avg_SUB_ATT',\n",
    " 'B_avg_opp_SUB_ATT',\n",
    " 'R_avg_KD',\n",
    " 'R_avg_opp_KD',\n",
    " 'R_avg_SIG_STR_pct',\n",
    " 'R_avg_opp_SIG_STR_pct',\n",
    " 'R_avg_TD_pct',\n",
    " 'R_avg_opp_TD_pct',\n",
    " 'R_avg_SUB_ATT',\n",
    " 'R_avg_opp_SUB_ATT', \n",
    " 'R_winrate',\n",
    " 'B_winrate',\n",
    " 'R_total_title_bouts',\n",
    " 'R_current_win_streak',\n",
    " 'R_current_lose_streak',\n",
    " 'R_longest_win_streak',\n",
    " 'B_total_title_bouts',\n",
    " 'B_current_win_streak',\n",
    " 'B_current_lose_streak',\n",
    " 'B_longest_win_streak', 'red_Won', 'title_bout','views_R_fighter',\n",
    " 'R_likesRate',\n",
    " 'B_likesRate',\n",
    " 'commentCounts_R_fighter',\n",
    " 'views_B_fighter',\n",
    " 'commentCounts_B_fighter']]"
   ]
  },
  {
   "cell_type": "code",
   "execution_count": 271,
   "metadata": {},
   "outputs": [
    {
     "output_type": "execute_result",
     "data": {
      "text/plain": [
       "Referee                    16\n",
       "location                    0\n",
       "weight_class                0\n",
       "R_last_match                0\n",
       "B_last_match                0\n",
       "B_Stance                    4\n",
       "R_Stance                    7\n",
       "B_avg_KD                    0\n",
       "B_avg_opp_KD                0\n",
       "B_avg_SIG_STR_pct           0\n",
       "B_avg_opp_SIG_STR_pct       0\n",
       "B_avg_TD_pct                0\n",
       "B_avg_opp_TD_pct            0\n",
       "B_avg_SUB_ATT               0\n",
       "B_avg_opp_SUB_ATT           0\n",
       "R_avg_KD                    0\n",
       "R_avg_opp_KD                0\n",
       "R_avg_SIG_STR_pct           0\n",
       "R_avg_opp_SIG_STR_pct       0\n",
       "R_avg_TD_pct                0\n",
       "R_avg_opp_TD_pct            0\n",
       "R_avg_SUB_ATT               0\n",
       "R_avg_opp_SUB_ATT           0\n",
       "R_winrate                   0\n",
       "B_winrate                   0\n",
       "R_total_title_bouts         0\n",
       "R_current_win_streak        0\n",
       "R_current_lose_streak       0\n",
       "R_longest_win_streak        0\n",
       "B_total_title_bouts         0\n",
       "B_current_win_streak        0\n",
       "B_current_lose_streak       0\n",
       "B_longest_win_streak        0\n",
       "red_Won                     0\n",
       "title_bout                  0\n",
       "views_R_fighter             0\n",
       "R_likesRate                 0\n",
       "B_likesRate                 0\n",
       "commentCounts_R_fighter     0\n",
       "views_B_fighter             0\n",
       "commentCounts_B_fighter     0\n",
       "dtype: int64"
      ]
     },
     "metadata": {},
     "execution_count": 271
    }
   ],
   "source": [
    "data.isna().sum()"
   ]
  },
  {
   "cell_type": "code",
   "execution_count": 272,
   "metadata": {},
   "outputs": [],
   "source": [
    "# drop empty rows\n",
    "data = data.dropna()"
   ]
  },
  {
   "cell_type": "code",
   "execution_count": 273,
   "metadata": {},
   "outputs": [],
   "source": [
    "# change title_bout to be binary\n",
    "data['title_bout'] = data['title_bout'].astype(int)"
   ]
  },
  {
   "cell_type": "code",
   "execution_count": 274,
   "metadata": {},
   "outputs": [
    {
     "output_type": "stream",
     "name": "stdout",
     "text": [
      "Referee\nlocation\nweight_class\nB_Stance\nR_Stance\n"
     ]
    }
   ],
   "source": [
    "# check data dtypes \n",
    "for x in range(len(data.dtypes)):\n",
    "    if data.dtypes[x] == 'O':\n",
    "        print(data.columns[x])"
   ]
  },
  {
   "cell_type": "code",
   "execution_count": 275,
   "metadata": {},
   "outputs": [],
   "source": [
    "# split data into testing (for final model evaluation) and training\n",
    "from sklearn.model_selection import train_test_split\n",
    "\n",
    "data_X = data.drop(['red_Won'], axis = 1)\n",
    "data_y = data['red_Won']\n",
    "data_train_X, data_test_X, data_train_y, data_test_y = train_test_split(data_X, data_y, test_size=0.3, random_state=88)"
   ]
  },
  {
   "cell_type": "code",
   "execution_count": 278,
   "metadata": {},
   "outputs": [],
   "source": [
    "# begin feature engineering \n",
    "\n",
    "from statsmodels.stats.outliers_influence import variance_inflation_factor\n",
    "def VIF(df, columns):\n",
    "    values = sm.add_constant(df[columns]).values\n",
    "    num_columns = len(columns)+1\n",
    "    vif = [variance_inflation_factor(values, i) for i in range(num_columns)]\n",
    "    return pd.Series(vif[1:], index=columns)\n",
    "\n",
    "# selects columns based on VIF and returns \n",
    "# n: cutoff for VIF\n",
    "# df: dataframe\n",
    "# returns: modified dataframe after performing VIF reduction\n",
    "def vif_selection(n, df):\n",
    "    cols = df.columns\n",
    "    vifs = VIF(df, cols)\n",
    "    largest_vif = max(vifs)\n",
    "    largest_index = vifs[vifs == largest_vif].index[0]\n",
    "    if largest_vif < n: \n",
    "        return df\n",
    "    else:\n",
    "        df = df.drop([largest_index], axis = 1)\n",
    "        return vif_selection(n, df)"
   ]
  },
  {
   "cell_type": "code",
   "execution_count": 279,
   "metadata": {},
   "outputs": [],
   "source": [
    "# chi square reduction\n",
    "from scipy.stats import chi2_contingency\n",
    "\n",
    "def chi_square_reduction(df, col):\n",
    "    if chi2_contingency(pd.crosstab(df['red_Won'], df[col]))[1] > 0.05:\n",
    "        return False\n",
    "    else:\n",
    "        return True\n"
   ]
  },
  {
   "cell_type": "code",
   "execution_count": 280,
   "metadata": {},
   "outputs": [],
   "source": [
    "# feature engineering method 1\n",
    "\n",
    "# encode all categorical data \n",
    "data_1 = pd.get_dummies(data_train_X, columns = ['Referee', 'location', 'weight_class', 'R_last_match', 'B_last_match', 'B_Stance', 'R_Stance', 'B_avg_KD',\n",
    " 'B_avg_opp_KD',\n",
    " 'B_avg_SIG_STR_pct',\n",
    " 'B_avg_opp_SIG_STR_pct',\n",
    " 'B_avg_TD_pct',\n",
    " 'B_avg_opp_TD_pct',\n",
    " 'B_avg_SUB_ATT',\n",
    " 'B_avg_opp_SUB_ATT',\n",
    " 'R_avg_KD',\n",
    " 'R_avg_opp_KD',\n",
    " 'R_avg_SIG_STR_pct',\n",
    " 'R_avg_opp_SIG_STR_pct',\n",
    " 'R_avg_TD_pct',\n",
    " 'R_avg_opp_TD_pct',\n",
    " 'R_avg_SUB_ATT',\n",
    " 'R_avg_opp_SUB_ATT', \n",
    " 'R_winrate',\n",
    " 'B_winrate',\n",
    " 'R_total_title_bouts',\n",
    " 'R_current_win_streak',\n",
    " 'R_current_lose_streak',\n",
    " 'R_longest_win_streak',\n",
    " 'B_total_title_bouts',\n",
    " 'B_current_win_streak',\n",
    " 'B_current_lose_streak',\n",
    " 'B_longest_win_streak'])"
   ]
  },
  {
   "cell_type": "code",
   "execution_count": 281,
   "metadata": {},
   "outputs": [],
   "source": [
    "# removes columns that have the same values as winrate columns\n",
    "def remove_duplicate_cols(df):\n",
    "    b_new = list(df['B_winrate_5'])\n",
    "    r_new = list(df['R_winrate_5'])\n",
    "    cols = list(df.columns)\n",
    "    for c in cols:\n",
    "        if c == 'B_winrate_5':\n",
    "            continue\n",
    "        elif c == 'R_winrate_5':\n",
    "            continue\n",
    "        else:\n",
    "            if list(df[c]) == b_new:\n",
    "                df = df.drop(c, axis = 1)\n",
    "            elif list(df[c]) == r_new:\n",
    "                df = df.drop(c, axis = 1)\n",
    "    return df\n"
   ]
  },
  {
   "cell_type": "code",
   "execution_count": 282,
   "metadata": {},
   "outputs": [],
   "source": [
    "# get rid of duplicate cols, mainly cols that indicate a fighter is new \n",
    "data_1 = remove_duplicate_cols(data_1)\n",
    "\n",
    "# split data_1 into validation and training\n",
    "X_1_train, X_1_test, y_1_train, y_1_test = train_test_split(data_1, data_train_y, test_size=0.3, random_state=88)\n",
    "# run VIF with limit of 3\n",
    "#X_1_train = vif_selection(3, X_1_train)"
   ]
  },
  {
   "cell_type": "code",
   "execution_count": 283,
   "metadata": {},
   "outputs": [],
   "source": [
    "# feature engineering method 2\n",
    "\n",
    "# encode all categorical except for referee and location\n",
    "data_2 = pd.get_dummies(data_train_X, columns = ['weight_class', 'R_last_match', 'B_last_match', 'B_Stance', 'R_Stance', 'B_avg_KD',\n",
    " 'B_avg_opp_KD',\n",
    " 'B_avg_SIG_STR_pct',\n",
    " 'B_avg_opp_SIG_STR_pct',\n",
    " 'B_avg_TD_pct',\n",
    " 'B_avg_opp_TD_pct',\n",
    " 'B_avg_SUB_ATT',\n",
    " 'B_avg_opp_SUB_ATT',\n",
    " 'R_avg_KD',\n",
    " 'R_avg_opp_KD',\n",
    " 'R_avg_SIG_STR_pct',\n",
    " 'R_avg_opp_SIG_STR_pct',\n",
    " 'R_avg_TD_pct',\n",
    " 'R_avg_opp_TD_pct',\n",
    " 'R_avg_SUB_ATT',\n",
    " 'R_avg_opp_SUB_ATT', \n",
    " 'R_winrate',\n",
    " 'B_winrate',\n",
    " 'R_total_title_bouts',\n",
    " 'R_current_win_streak',\n",
    " 'R_current_lose_streak',\n",
    " 'R_longest_win_streak',\n",
    " 'B_total_title_bouts',\n",
    " 'B_current_win_streak',\n",
    " 'B_current_lose_streak',\n",
    " 'B_longest_win_streak'])\n",
    "\n",
    "# drop referee and location\n",
    "data_2 = data_2.drop(['Referee', 'location'], axis = 1)\n",
    "\n",
    "# get rid of duplicate cols\n",
    "data_2 = remove_duplicate_cols(data_2)\n",
    "\n",
    "# split data_2 into validation and training\n",
    "X_2_train, X_2_test, y_2_train, y_2_test = train_test_split(data_2, data_train_y, test_size=0.3, random_state=88)\n"
   ]
  },
  {
   "cell_type": "code",
   "execution_count": 338,
   "metadata": {},
   "outputs": [],
   "source": [
    "# feature engineering method 3\n",
    "\n",
    "\n",
    "data_3 = pd.get_dummies(data_train_X, columns=['B_avg_KD',\n",
    " 'B_avg_SIG_STR_pct',\n",
    " 'B_avg_TD_pct',\n",
    " 'R_avg_KD',\n",
    " 'R_avg_SIG_STR_pct',\n",
    " 'R_avg_TD_pct',\n",
    " 'R_winrate',\n",
    " 'B_winrate'])\n",
    "\n",
    "data_3 = data_3.drop(['Referee', 'location', 'weight_class', 'B_Stance', 'R_Stance',\n",
    " 'B_avg_opp_SIG_STR_pct',\n",
    " 'B_avg_opp_TD_pct',\n",
    " 'B_avg_SUB_ATT',\n",
    " 'B_avg_opp_SUB_ATT',\n",
    " 'R_avg_opp_SIG_STR_pct',\n",
    " 'R_avg_opp_TD_pct',\n",
    " 'R_avg_SUB_ATT',\n",
    " 'R_avg_opp_SUB_ATT',\n",
    " 'R_total_title_bouts',\n",
    " 'R_current_win_streak',\n",
    " 'R_current_lose_streak',\n",
    " 'R_longest_win_streak',\n",
    " 'B_total_title_bouts',\n",
    " 'B_current_win_streak',\n",
    " 'B_current_lose_streak',\n",
    " 'B_longest_win_streak',\n",
    " 'commentCounts_R_fighter', \n",
    " 'commentCounts_B_fighter', \n",
    " 'R_last_match', \n",
    " 'B_last_match', \n",
    " 'B_avg_opp_KD',\n",
    " 'R_avg_opp_KD',\n",
    " 'title_bout'], axis = 1)\n",
    "\n",
    "data_3 = remove_duplicate_cols(data_3)\n",
    "\n",
    "# split data_3 into validation and training\n",
    "X_3_train, X_3_test, y_3_train, y_3_test = train_test_split(data_3, data_train_y, test_size=0.3)\n"
   ]
  },
  {
   "cell_type": "code",
   "execution_count": 285,
   "metadata": {},
   "outputs": [
    {
     "output_type": "execute_result",
     "data": {
      "text/plain": [
       "['views_R_fighter',\n",
       " 'R_likesRate',\n",
       " 'B_likesRate',\n",
       " 'views_B_fighter',\n",
       " 'B_avg_KD_0',\n",
       " 'B_avg_KD_2',\n",
       " 'B_avg_KD_3',\n",
       " 'B_avg_KD_4',\n",
       " 'B_avg_SIG_STR_pct_0',\n",
       " 'B_avg_SIG_STR_pct_1',\n",
       " 'B_avg_SIG_STR_pct_2',\n",
       " 'B_avg_SIG_STR_pct_3',\n",
       " 'B_avg_SIG_STR_pct_4',\n",
       " 'B_avg_TD_pct_0',\n",
       " 'B_avg_TD_pct_1',\n",
       " 'B_avg_TD_pct_2',\n",
       " 'B_avg_TD_pct_3',\n",
       " 'B_avg_TD_pct_4',\n",
       " 'R_avg_KD_0',\n",
       " 'R_avg_KD_1',\n",
       " 'R_avg_KD_2',\n",
       " 'R_avg_KD_3',\n",
       " 'R_avg_KD_4',\n",
       " 'R_avg_SIG_STR_pct_0',\n",
       " 'R_avg_SIG_STR_pct_1',\n",
       " 'R_avg_SIG_STR_pct_2',\n",
       " 'R_avg_SIG_STR_pct_3',\n",
       " 'R_avg_SIG_STR_pct_4',\n",
       " 'R_avg_TD_pct_0',\n",
       " 'R_avg_TD_pct_1',\n",
       " 'R_avg_TD_pct_2',\n",
       " 'R_avg_TD_pct_3',\n",
       " 'R_avg_TD_pct_4',\n",
       " 'R_winrate_0',\n",
       " 'R_winrate_1',\n",
       " 'R_winrate_2',\n",
       " 'R_winrate_3',\n",
       " 'R_winrate_4',\n",
       " 'R_winrate_5',\n",
       " 'B_winrate_0',\n",
       " 'B_winrate_1',\n",
       " 'B_winrate_2',\n",
       " 'B_winrate_3',\n",
       " 'B_winrate_4',\n",
       " 'B_winrate_5']"
      ]
     },
     "metadata": {},
     "execution_count": 285
    }
   ],
   "source": [
    "list(X_3_train.columns)"
   ]
  },
  {
   "cell_type": "code",
   "execution_count": 305,
   "metadata": {},
   "outputs": [],
   "source": [
    "# feature engineering method 4\n",
    "\n",
    "# encode all categorical except for referee and location\n",
    "data_4 = pd.get_dummies(data_train_X, columns = ['weight_class', 'R_last_match', 'B_last_match', 'B_Stance', 'R_Stance', 'B_avg_KD',\n",
    " 'B_avg_opp_KD',\n",
    " 'B_avg_SIG_STR_pct',\n",
    " 'B_avg_opp_SIG_STR_pct',\n",
    " 'B_avg_TD_pct',\n",
    " 'B_avg_opp_TD_pct',\n",
    " 'B_avg_SUB_ATT',\n",
    " 'B_avg_opp_SUB_ATT',\n",
    " 'R_avg_KD',\n",
    " 'R_avg_opp_KD',\n",
    " 'R_avg_SIG_STR_pct',\n",
    " 'R_avg_opp_SIG_STR_pct',\n",
    " 'R_avg_TD_pct',\n",
    " 'R_avg_opp_TD_pct',\n",
    " 'R_avg_SUB_ATT',\n",
    " 'R_avg_opp_SUB_ATT', \n",
    " 'R_winrate',\n",
    " 'B_winrate'])\n",
    "\n",
    "# drop referee and location\n",
    "data_4 = data_4.drop(['Referee', 'location'], axis = 1)\n",
    "\n",
    "# get rid of duplicate cols\n",
    "data_4 = remove_duplicate_cols(data_4)\n",
    "\n"
   ]
  },
  {
   "cell_type": "code",
   "execution_count": 306,
   "metadata": {},
   "outputs": [
    {
     "output_type": "execute_result",
     "data": {
      "text/plain": [
       "['R_total_title_bouts',\n",
       " 'R_current_win_streak',\n",
       " 'R_current_lose_streak',\n",
       " 'R_longest_win_streak',\n",
       " 'B_total_title_bouts',\n",
       " 'B_current_win_streak',\n",
       " 'B_current_lose_streak',\n",
       " 'B_longest_win_streak',\n",
       " 'title_bout',\n",
       " 'views_R_fighter',\n",
       " 'R_likesRate',\n",
       " 'B_likesRate',\n",
       " 'commentCounts_R_fighter',\n",
       " 'views_B_fighter',\n",
       " 'commentCounts_B_fighter',\n",
       " 'weight_class_Bantamweight',\n",
       " 'weight_class_CatchWeight',\n",
       " 'weight_class_Featherweight',\n",
       " 'weight_class_Flyweight',\n",
       " 'weight_class_Heavyweight',\n",
       " 'weight_class_LightHeavyweight',\n",
       " 'weight_class_Lightweight',\n",
       " 'weight_class_Middleweight',\n",
       " 'weight_class_Welterweight',\n",
       " 'weight_class_WomenBantamweight',\n",
       " 'weight_class_WomenFeatherweight',\n",
       " 'weight_class_WomenFlyweight',\n",
       " 'weight_class_WomenStrawweight',\n",
       " 'R_last_match_0',\n",
       " 'R_last_match_1',\n",
       " 'R_last_match_2',\n",
       " 'R_last_match_3',\n",
       " 'R_last_match_4',\n",
       " 'R_last_match_5',\n",
       " 'B_last_match_0',\n",
       " 'B_last_match_1',\n",
       " 'B_last_match_2',\n",
       " 'B_last_match_3',\n",
       " 'B_last_match_4',\n",
       " 'B_last_match_5',\n",
       " 'B_Stance_Orthodox',\n",
       " 'B_Stance_Southpaw',\n",
       " 'B_Stance_Switch',\n",
       " 'R_Stance_Orthodox',\n",
       " 'R_Stance_Southpaw',\n",
       " 'R_Stance_Switch',\n",
       " 'B_avg_KD_0',\n",
       " 'B_avg_KD_2',\n",
       " 'B_avg_KD_3',\n",
       " 'B_avg_KD_4',\n",
       " 'B_avg_opp_KD_0',\n",
       " 'B_avg_opp_KD_2',\n",
       " 'B_avg_opp_KD_3',\n",
       " 'B_avg_opp_KD_4',\n",
       " 'B_avg_SIG_STR_pct_0',\n",
       " 'B_avg_SIG_STR_pct_1',\n",
       " 'B_avg_SIG_STR_pct_2',\n",
       " 'B_avg_SIG_STR_pct_3',\n",
       " 'B_avg_SIG_STR_pct_4',\n",
       " 'B_avg_opp_SIG_STR_pct_0',\n",
       " 'B_avg_opp_SIG_STR_pct_1',\n",
       " 'B_avg_opp_SIG_STR_pct_2',\n",
       " 'B_avg_opp_SIG_STR_pct_3',\n",
       " 'B_avg_opp_SIG_STR_pct_4',\n",
       " 'B_avg_TD_pct_0',\n",
       " 'B_avg_TD_pct_1',\n",
       " 'B_avg_TD_pct_2',\n",
       " 'B_avg_TD_pct_3',\n",
       " 'B_avg_TD_pct_4',\n",
       " 'B_avg_opp_TD_pct_0',\n",
       " 'B_avg_opp_TD_pct_1',\n",
       " 'B_avg_opp_TD_pct_2',\n",
       " 'B_avg_opp_TD_pct_3',\n",
       " 'B_avg_opp_TD_pct_4',\n",
       " 'B_avg_SUB_ATT_0',\n",
       " 'B_avg_SUB_ATT_1',\n",
       " 'B_avg_SUB_ATT_2',\n",
       " 'B_avg_SUB_ATT_3',\n",
       " 'B_avg_SUB_ATT_4',\n",
       " 'B_avg_opp_SUB_ATT_0',\n",
       " 'B_avg_opp_SUB_ATT_2',\n",
       " 'B_avg_opp_SUB_ATT_3',\n",
       " 'B_avg_opp_SUB_ATT_4',\n",
       " 'R_avg_KD_0',\n",
       " 'R_avg_KD_1',\n",
       " 'R_avg_KD_2',\n",
       " 'R_avg_KD_3',\n",
       " 'R_avg_KD_4',\n",
       " 'R_avg_opp_KD_0',\n",
       " 'R_avg_opp_KD_2',\n",
       " 'R_avg_opp_KD_3',\n",
       " 'R_avg_opp_KD_4',\n",
       " 'R_avg_SIG_STR_pct_0',\n",
       " 'R_avg_SIG_STR_pct_1',\n",
       " 'R_avg_SIG_STR_pct_2',\n",
       " 'R_avg_SIG_STR_pct_3',\n",
       " 'R_avg_SIG_STR_pct_4',\n",
       " 'R_avg_opp_SIG_STR_pct_0',\n",
       " 'R_avg_opp_SIG_STR_pct_1',\n",
       " 'R_avg_opp_SIG_STR_pct_2',\n",
       " 'R_avg_opp_SIG_STR_pct_3',\n",
       " 'R_avg_opp_SIG_STR_pct_4',\n",
       " 'R_avg_TD_pct_0',\n",
       " 'R_avg_TD_pct_1',\n",
       " 'R_avg_TD_pct_2',\n",
       " 'R_avg_TD_pct_3',\n",
       " 'R_avg_TD_pct_4',\n",
       " 'R_avg_opp_TD_pct_0',\n",
       " 'R_avg_opp_TD_pct_1',\n",
       " 'R_avg_opp_TD_pct_2',\n",
       " 'R_avg_opp_TD_pct_3',\n",
       " 'R_avg_opp_TD_pct_4',\n",
       " 'R_avg_SUB_ATT_0',\n",
       " 'R_avg_SUB_ATT_1',\n",
       " 'R_avg_SUB_ATT_2',\n",
       " 'R_avg_SUB_ATT_3',\n",
       " 'R_avg_SUB_ATT_4',\n",
       " 'R_avg_opp_SUB_ATT_0',\n",
       " 'R_avg_opp_SUB_ATT_1',\n",
       " 'R_avg_opp_SUB_ATT_2',\n",
       " 'R_avg_opp_SUB_ATT_3',\n",
       " 'R_avg_opp_SUB_ATT_4',\n",
       " 'R_winrate_0',\n",
       " 'R_winrate_1',\n",
       " 'R_winrate_2',\n",
       " 'R_winrate_3',\n",
       " 'R_winrate_4',\n",
       " 'R_winrate_5',\n",
       " 'B_winrate_0',\n",
       " 'B_winrate_1',\n",
       " 'B_winrate_2',\n",
       " 'B_winrate_3',\n",
       " 'B_winrate_4',\n",
       " 'B_winrate_5']"
      ]
     },
     "metadata": {},
     "execution_count": 306
    }
   ],
   "source": [
    "list(data_4.columns)"
   ]
  },
  {
   "cell_type": "code",
   "execution_count": 307,
   "metadata": {},
   "outputs": [],
   "source": [
    "# use chi square reduction function\n",
    "categorical_cols = ['weight_class_Bantamweight',\n",
    " 'weight_class_CatchWeight',\n",
    " 'weight_class_Featherweight',\n",
    " 'weight_class_Flyweight',\n",
    " 'weight_class_Heavyweight',\n",
    " 'weight_class_LightHeavyweight',\n",
    " 'weight_class_Lightweight',\n",
    " 'weight_class_Middleweight',\n",
    " 'weight_class_Welterweight',\n",
    " 'weight_class_WomenBantamweight',\n",
    " 'weight_class_WomenFeatherweight',\n",
    " 'weight_class_WomenFlyweight',\n",
    " 'weight_class_WomenStrawweight',\n",
    " 'R_last_match_0',\n",
    " 'R_last_match_1',\n",
    " 'R_last_match_2',\n",
    " 'R_last_match_3',\n",
    " 'R_last_match_4',\n",
    " 'R_last_match_5',\n",
    " 'B_last_match_0',\n",
    " 'B_last_match_1',\n",
    " 'B_last_match_2',\n",
    " 'B_last_match_3',\n",
    " 'B_last_match_4',\n",
    " 'B_last_match_5',\n",
    " 'B_Stance_Orthodox',\n",
    " 'B_Stance_Southpaw',\n",
    " 'B_Stance_Switch',\n",
    " 'R_Stance_Orthodox',\n",
    " 'R_Stance_Southpaw',\n",
    " 'R_Stance_Switch',\n",
    " 'B_avg_KD_0',\n",
    " 'B_avg_KD_2',\n",
    " 'B_avg_KD_3',\n",
    " 'B_avg_KD_4',\n",
    " 'B_avg_opp_KD_0',\n",
    " 'B_avg_opp_KD_2',\n",
    " 'B_avg_opp_KD_3',\n",
    " 'B_avg_opp_KD_4',\n",
    " 'B_avg_SIG_STR_pct_0',\n",
    " 'B_avg_SIG_STR_pct_1',\n",
    " 'B_avg_SIG_STR_pct_2',\n",
    " 'B_avg_SIG_STR_pct_3',\n",
    " 'B_avg_SIG_STR_pct_4',\n",
    " 'B_avg_opp_SIG_STR_pct_0',\n",
    " 'B_avg_opp_SIG_STR_pct_1',\n",
    " 'B_avg_opp_SIG_STR_pct_2',\n",
    " 'B_avg_opp_SIG_STR_pct_3',\n",
    " 'B_avg_opp_SIG_STR_pct_4',\n",
    " 'B_avg_TD_pct_0',\n",
    " 'B_avg_TD_pct_1',\n",
    " 'B_avg_TD_pct_2',\n",
    " 'B_avg_TD_pct_3',\n",
    " 'B_avg_TD_pct_4',\n",
    " 'B_avg_opp_TD_pct_0',\n",
    " 'B_avg_opp_TD_pct_1',\n",
    " 'B_avg_opp_TD_pct_2',\n",
    " 'B_avg_opp_TD_pct_3',\n",
    " 'B_avg_opp_TD_pct_4',\n",
    " 'B_avg_SUB_ATT_0',\n",
    " 'B_avg_SUB_ATT_1',\n",
    " 'B_avg_SUB_ATT_2',\n",
    " 'B_avg_SUB_ATT_3',\n",
    " 'B_avg_SUB_ATT_4',\n",
    " 'B_avg_opp_SUB_ATT_0',\n",
    " 'B_avg_opp_SUB_ATT_2',\n",
    " 'B_avg_opp_SUB_ATT_3',\n",
    " 'B_avg_opp_SUB_ATT_4',\n",
    " 'R_avg_KD_0',\n",
    " 'R_avg_KD_1',\n",
    " 'R_avg_KD_2',\n",
    " 'R_avg_KD_3',\n",
    " 'R_avg_KD_4',\n",
    " 'R_avg_opp_KD_0',\n",
    " 'R_avg_opp_KD_2',\n",
    " 'R_avg_opp_KD_3',\n",
    " 'R_avg_opp_KD_4',\n",
    " 'R_avg_SIG_STR_pct_0',\n",
    " 'R_avg_SIG_STR_pct_1',\n",
    " 'R_avg_SIG_STR_pct_2',\n",
    " 'R_avg_SIG_STR_pct_3',\n",
    " 'R_avg_SIG_STR_pct_4',\n",
    " 'R_avg_opp_SIG_STR_pct_0',\n",
    " 'R_avg_opp_SIG_STR_pct_1',\n",
    " 'R_avg_opp_SIG_STR_pct_2',\n",
    " 'R_avg_opp_SIG_STR_pct_3',\n",
    " 'R_avg_opp_SIG_STR_pct_4',\n",
    " 'R_avg_TD_pct_0',\n",
    " 'R_avg_TD_pct_1',\n",
    " 'R_avg_TD_pct_2',\n",
    " 'R_avg_TD_pct_3',\n",
    " 'R_avg_TD_pct_4',\n",
    " 'R_avg_opp_TD_pct_0',\n",
    " 'R_avg_opp_TD_pct_1',\n",
    " 'R_avg_opp_TD_pct_2',\n",
    " 'R_avg_opp_TD_pct_3',\n",
    " 'R_avg_opp_TD_pct_4',\n",
    " 'R_avg_SUB_ATT_0',\n",
    " 'R_avg_SUB_ATT_1',\n",
    " 'R_avg_SUB_ATT_2',\n",
    " 'R_avg_SUB_ATT_3',\n",
    " 'R_avg_SUB_ATT_4',\n",
    " 'R_avg_opp_SUB_ATT_0',\n",
    " 'R_avg_opp_SUB_ATT_1',\n",
    " 'R_avg_opp_SUB_ATT_2',\n",
    " 'R_avg_opp_SUB_ATT_3',\n",
    " 'R_avg_opp_SUB_ATT_4',\n",
    " 'R_winrate_0',\n",
    " 'R_winrate_1',\n",
    " 'R_winrate_2',\n",
    " 'R_winrate_3',\n",
    " 'R_winrate_4',\n",
    " 'R_winrate_5',\n",
    " 'B_winrate_0',\n",
    " 'B_winrate_1',\n",
    " 'B_winrate_2',\n",
    " 'B_winrate_3',\n",
    " 'B_winrate_4',\n",
    " 'B_winrate_5']\n",
    " \n",
    "data_4_red_won = data_4.copy()\n",
    "data_4_red_won['red_Won'] = data_train_y\n",
    "for c in categorical_cols:\n",
    "    if not chi_square_reduction(data_4_red_won, c):\n",
    "        data_4 = data_4.drop([c], axis = 1 )\n",
    "\n",
    "# split data_2 into validation and training\n",
    "X_4_train, X_4_test, y_4_train, y_4_test = train_test_split(data_4, data_train_y, test_size=0.3, random_state=88)"
   ]
  },
  {
   "cell_type": "code",
   "execution_count": 308,
   "metadata": {},
   "outputs": [
    {
     "output_type": "execute_result",
     "data": {
      "text/plain": [
       "['R_total_title_bouts',\n",
       " 'R_current_win_streak',\n",
       " 'R_current_lose_streak',\n",
       " 'R_longest_win_streak',\n",
       " 'B_total_title_bouts',\n",
       " 'B_current_win_streak',\n",
       " 'B_current_lose_streak',\n",
       " 'B_longest_win_streak',\n",
       " 'title_bout',\n",
       " 'views_R_fighter',\n",
       " 'R_likesRate',\n",
       " 'B_likesRate',\n",
       " 'commentCounts_R_fighter',\n",
       " 'views_B_fighter',\n",
       " 'commentCounts_B_fighter',\n",
       " 'B_last_match_4',\n",
       " 'B_avg_opp_KD_4',\n",
       " 'R_avg_opp_KD_0',\n",
       " 'R_avg_opp_KD_2',\n",
       " 'R_avg_opp_SIG_STR_pct_0',\n",
       " 'R_avg_opp_SIG_STR_pct_4',\n",
       " 'R_avg_SUB_ATT_1',\n",
       " 'R_avg_SUB_ATT_4',\n",
       " 'R_avg_opp_SUB_ATT_0',\n",
       " 'R_winrate_0',\n",
       " 'R_winrate_2',\n",
       " 'R_winrate_4']"
      ]
     },
     "metadata": {},
     "execution_count": 308
    }
   ],
   "source": [
    "list(X_4_train.columns)"
   ]
  },
  {
   "cell_type": "code",
   "execution_count": 310,
   "metadata": {},
   "outputs": [
    {
     "output_type": "stream",
     "name": "stdout",
     "text": [
      "Confusion Matrix: \n [[ 69  94]\n [ 51 196]]\n\nAccuracy: 0.6463414634146342\n"
     ]
    }
   ],
   "source": [
    "# test which method of feature engineering gives highest accuracy using logistic regression\n",
    "\n",
    "from sklearn.linear_model import LogisticRegression\n",
    "# method 1\n",
    "# fit logisitic regression model \n",
    "lr_1 = LogisticRegression()\n",
    "lr_1.fit(X_1_train, y_1_train)\n",
    "\n",
    "# validate on validation data\n",
    "lr_1_pred = lr_1.predict(X_1_test[list(X_1_train.columns)])\n",
    "lr_1_cm = confusion_matrix(y_1_test, lr_1_pred)\n",
    "print (\"Confusion Matrix: \\n\", lr_1_cm)\n",
    "print (\"\\nAccuracy:\", accuracy_score(y_1_test, lr_1_pred))"
   ]
  },
  {
   "cell_type": "code",
   "execution_count": 311,
   "metadata": {},
   "outputs": [
    {
     "output_type": "stream",
     "name": "stdout",
     "text": [
      "Confusion Matrix: \n [[ 69  94]\n [ 51 196]]\n\nAccuracy: 0.6463414634146342\n"
     ]
    }
   ],
   "source": [
    "# method 2\n",
    "lr_2 = LogisticRegression()\n",
    "lr_2.fit(X_2_train, y_2_train)\n",
    "\n",
    "# validate on validation data\n",
    "lr_2_pred = lr_2.predict(X_2_test[list(X_2_train.columns)])\n",
    "lr_2_cm = confusion_matrix(y_2_test, lr_2_pred)\n",
    "print (\"Confusion Matrix: \\n\", lr_2_cm)\n",
    "print (\"\\nAccuracy:\", accuracy_score(y_2_test, lr_2_pred))"
   ]
  },
  {
   "cell_type": "code",
   "execution_count": 339,
   "metadata": {},
   "outputs": [
    {
     "output_type": "stream",
     "name": "stdout",
     "text": [
      "Confusion Matrix: \n [[  0 172]\n [  0 238]]\n\nAccuracy: 0.5804878048780487\n"
     ]
    }
   ],
   "source": [
    "# method 3\n",
    "# fit logisitic regression model \n",
    "lr_3 = LogisticRegression()\n",
    "lr_3.fit(X_3_train, y_3_train)\n",
    "\n",
    "# validate on validation data\n",
    "lr_3_pred = lr_3.predict(X_3_test[list(X_3_train.columns)])\n",
    "lr_3_cm = confusion_matrix(y_3_test, lr_3_pred)\n",
    "print (\"Confusion Matrix: \\n\", lr_3_cm)\n",
    "print (\"\\nAccuracy:\", accuracy_score(y_3_test, lr_3_pred))"
   ]
  },
  {
   "cell_type": "code",
   "execution_count": 313,
   "metadata": {},
   "outputs": [
    {
     "output_type": "stream",
     "name": "stdout",
     "text": [
      "Confusion Matrix: \n [[ 69  94]\n [ 51 196]]\n\nAccuracy: 0.6463414634146342\n"
     ]
    }
   ],
   "source": [
    "# method 4\n",
    "# fit logisitic regression model \n",
    "lr_4 = LogisticRegression()\n",
    "lr_4.fit(X_4_train, y_4_train)\n",
    "\n",
    "# validate on validation data\n",
    "lr_4_pred = lr_4.predict(X_4_test[list(X_4_train.columns)])\n",
    "lr_4_cm = confusion_matrix(y_4_test, lr_4_pred)\n",
    "print (\"Confusion Matrix: \\n\", lr_4_cm)\n",
    "print (\"\\nAccuracy:\", accuracy_score(y_4_test, lr_4_pred))"
   ]
  },
  {
   "cell_type": "code",
   "execution_count": 314,
   "metadata": {},
   "outputs": [
    {
     "output_type": "stream",
     "name": "stdout",
     "text": [
      "Confusion Matrix: \n [[ 80  83]\n [ 93 154]]\n\nAccuracy: 0.5707317073170731\n"
     ]
    }
   ],
   "source": [
    "# Model selection\n",
    "\n",
    "# Decision Tree Classifier\n",
    "from sklearn.tree import DecisionTreeClassifier\n",
    "\n",
    "# fit dtc\n",
    "dtc_1 = DecisionTreeClassifier()\n",
    "dtc_1.fit(X_4_train, y_4_train)\n",
    "\n",
    "# validate on validation data\n",
    "dtc_1_pred = dtc_1.predict(X_4_test[list(X_4_train.columns)])\n",
    "dtc_1_cm = confusion_matrix(y_4_test, dtc_1_pred)\n",
    "print (\"Confusion Matrix: \\n\", dtc_1_cm)\n",
    "print (\"\\nAccuracy:\", accuracy_score(y_4_test, dtc_1_pred))"
   ]
  },
  {
   "cell_type": "code",
   "execution_count": 316,
   "metadata": {},
   "outputs": [
    {
     "output_type": "stream",
     "name": "stdout",
     "text": [
      "Confusion Matrix: \n [[ 42 121]\n [ 28 219]]\n\nAccuracy: 0.6365853658536585\n"
     ]
    }
   ],
   "source": [
    "# random forest classifier\n",
    "from sklearn.ensemble import RandomForestClassifier\n",
    "# fit rfc\n",
    "rfc_1 = RandomForestClassifier(max_features = 'sqrt', min_samples_leaf= 5, n_estimators = 2000, max_depth = 5)\n",
    "rfc_1.fit(X_4_train, y_4_train)\n",
    "\n",
    "# validate on validation data\n",
    "rfc_1_pred = rfc_1.predict(X_4_test[list(X_4_train.columns)])\n",
    "rfc_1_cm = confusion_matrix(y_4_test, rfc_1_pred)\n",
    "print (\"Confusion Matrix: \\n\", rfc_1_cm)\n",
    "print (\"\\nAccuracy:\", accuracy_score(y_4_test, rfc_1_pred))"
   ]
  },
  {
   "cell_type": "code",
   "execution_count": 318,
   "metadata": {},
   "outputs": [
    {
     "output_type": "stream",
     "name": "stdout",
     "text": [
      "Confusion Matrix: \n [[ 77  86]\n [ 66 181]]\n\nAccuracy: 0.6292682926829268\n"
     ]
    }
   ],
   "source": [
    "# gradient boosting classifier\n",
    "from sklearn.ensemble import GradientBoostingClassifier\n",
    "\n",
    "gbc_1 = GradientBoostingClassifier(n_estimators = 2000, learning_rate = 0.1, max_leaf_nodes = 5, max_depth = 5, min_samples_split = 5, max_features='sqrt')\n",
    "gbc_1.fit(X_4_train, y_4_train)\n",
    "\n",
    "# validate on validation set\n",
    "gbc_y_pred_1 = gbc_1.predict(X_4_test[list(X_4_train.columns)])\n",
    "gbc_cm_1 = confusion_matrix(y_4_test, gbc_y_pred_1)\n",
    "print (\"Confusion Matrix: \\n\", gbc_cm_1)\n",
    "print (\"\\nAccuracy:\", accuracy_score(y_4_test, gbc_y_pred_1))"
   ]
  },
  {
   "cell_type": "code",
   "execution_count": 325,
   "metadata": {},
   "outputs": [
    {
     "output_type": "stream",
     "name": "stdout",
     "text": [
      "Best params: {'max_depth': 5, 'max_features': 'sqrt', 'min_samples_leaf': 5, 'n_estimators': 1400, 'random_state': 88}\nConfusion Matrix: \n [[ 43 120]\n [ 28 219]]\n\nAccuracy: 0.6390243902439025\n"
     ]
    }
   ],
   "source": [
    "# choose rfc because of ability to finetune model parameters\n",
    "# begin modifying hyperparamters for rfc\n",
    "from sklearn.model_selection import GridSearchCV\n",
    "from sklearn.model_selection import KFold\n",
    "\n",
    "# begin fine tuning parameters of random forest using grid search\n",
    "\n",
    "# first fine tune n_estimators\n",
    "rfc_2_grid_values = {\n",
    "               'min_samples_leaf': [5],\n",
    "               'n_estimators': range(200, 3001,  100),\n",
    "               'random_state': [88],\n",
    "               'max_depth' : [5],\n",
    "               'max_features': ['sqrt']} \n",
    "rfc_2 = RandomForestClassifier()\n",
    "rfc_2_cv = KFold(n_splits=5,random_state=333,shuffle=True) \n",
    "rfc_2_search = GridSearchCV(rfc_2, param_grid=rfc_2_grid_values, scoring='accuracy', cv=rfc_2_cv)\n",
    "rfc_2_search.fit(X_4_train, y_4_train)\n",
    "\n",
    "# get best model params\n",
    "print(\"Best params:\" , rfc_2_search.best_params_)\n",
    "\n",
    "# check accuracy on test\n",
    "rfc_2_y_pred = rfc_2_search.best_estimator_.predict(X_4_test[list(X_4_train.columns)])\n",
    "rfc_2_cm = confusion_matrix(y_4_test, rfc_2_y_pred)\n",
    "print (\"Confusion Matrix: \\n\", rfc_2_cm)\n",
    "print (\"\\nAccuracy:\", accuracy_score(y_4_test, rfc_2_y_pred))"
   ]
  },
  {
   "cell_type": "code",
   "execution_count": 326,
   "metadata": {},
   "outputs": [
    {
     "output_type": "stream",
     "name": "stdout",
     "text": [
      "Best params: {'max_depth': 5, 'max_features': 'sqrt', 'min_samples_leaf': 5, 'n_estimators': 1400, 'random_state': 88}\nConfusion Matrix: \n [[ 43 120]\n [ 28 219]]\n\nAccuracy: 0.6390243902439025\n"
     ]
    }
   ],
   "source": [
    "# next fine tune max_depth\n",
    "rfc_3_grid_values = {\n",
    "               'min_samples_leaf': [5],\n",
    "               'n_estimators': [1400],\n",
    "               'random_state': [88],\n",
    "               'max_depth' : range(2, 11, 1),\n",
    "               'max_features': ['sqrt']} \n",
    "rfc_3 = RandomForestClassifier()\n",
    "rfc_3_cv = KFold(n_splits=5,random_state=333,shuffle=True) \n",
    "rfc_3_search = GridSearchCV(rfc_3, param_grid=rfc_3_grid_values, scoring='accuracy', cv=rfc_3_cv)\n",
    "rfc_3_search.fit(X_4_train, y_4_train)\n",
    "\n",
    "# get best model params\n",
    "print(\"Best params:\" , rfc_3_search.best_params_)\n",
    "\n",
    "# check accuracy on test\n",
    "rfc_3_y_pred = rfc_3_search.best_estimator_.predict(X_4_test[list(X_4_train.columns)])\n",
    "rfc_3_cm = confusion_matrix(y_4_test, rfc_3_y_pred)\n",
    "print (\"Confusion Matrix: \\n\", rfc_3_cm)\n",
    "print (\"\\nAccuracy:\", accuracy_score(y_4_test, rfc_3_y_pred))"
   ]
  },
  {
   "cell_type": "code",
   "execution_count": 327,
   "metadata": {},
   "outputs": [
    {
     "output_type": "stream",
     "name": "stdout",
     "text": [
      "Confusion Matrix: \n [[ 69 199]\n [ 36 282]]\n\nAccuracy: 0.5989761092150171\n"
     ]
    }
   ],
   "source": [
    "# final test\n",
    "\n",
    "# encode all categorical except for referee and location\n",
    "data_test = pd.get_dummies(data_test_X, columns = ['weight_class', 'R_last_match', 'B_last_match', 'B_Stance', 'R_Stance', 'B_avg_KD',\n",
    " 'B_avg_opp_KD',\n",
    " 'B_avg_SIG_STR_pct',\n",
    " 'B_avg_opp_SIG_STR_pct',\n",
    " 'B_avg_TD_pct',\n",
    " 'B_avg_opp_TD_pct',\n",
    " 'B_avg_SUB_ATT',\n",
    " 'B_avg_opp_SUB_ATT',\n",
    " 'R_avg_KD',\n",
    " 'R_avg_opp_KD',\n",
    " 'R_avg_SIG_STR_pct',\n",
    " 'R_avg_opp_SIG_STR_pct',\n",
    " 'R_avg_TD_pct',\n",
    " 'R_avg_opp_TD_pct',\n",
    " 'R_avg_SUB_ATT',\n",
    " 'R_avg_opp_SUB_ATT', \n",
    " 'R_winrate',\n",
    " 'B_winrate'])\n",
    "\n",
    "\n",
    "rfc_final_pred = rfc_3_search.best_estimator_.predict(data_test[list(X_4_train.columns)])\n",
    "rfc_final_cm = confusion_matrix(data_test_y, rfc_final_pred)\n",
    "print (\"Confusion Matrix: \\n\", rfc_final_cm)\n",
    "print (\"\\nAccuracy:\", accuracy_score(data_test_y, rfc_final_pred))\n"
   ]
  },
  {
   "cell_type": "code",
   "execution_count": 329,
   "metadata": {},
   "outputs": [
    {
     "output_type": "stream",
     "name": "stdout",
     "text": [
      "Confusion Matrix: \n [[  0 268]\n [  0 318]]\n\nAccuracy: 0.5426621160409556\n"
     ]
    }
   ],
   "source": [
    "predict_1 = confusion_matrix(data_test_y, [1 for x in range(len(data_test_y))])\n",
    "print (\"Confusion Matrix: \\n\", predict_1)\n",
    "print (\"\\nAccuracy:\", accuracy_score(data_test_y, [1 for x in range(len(data_test_y))]))"
   ]
  },
  {
   "cell_type": "code",
   "execution_count": 331,
   "metadata": {},
   "outputs": [
    {
     "output_type": "stream",
     "name": "stdout",
     "text": [
      "Confusion Matrix: \n [[149 119]\n [165 153]]\n\nAccuracy: 0.515358361774744\n"
     ]
    }
   ],
   "source": [
    "predict_random = np.random.randint(2, size=len(data_test_y))\n",
    "predict_random_cv = confusion_matrix(data_test_y, predict_random)\n",
    "print (\"Confusion Matrix: \\n\", predict_random_cv)\n",
    "print (\"\\nAccuracy:\", accuracy_score(data_test_y, predict_random))"
   ]
  },
  {
   "cell_type": "code",
   "execution_count": null,
   "metadata": {},
   "outputs": [],
   "source": []
  }
 ]
}